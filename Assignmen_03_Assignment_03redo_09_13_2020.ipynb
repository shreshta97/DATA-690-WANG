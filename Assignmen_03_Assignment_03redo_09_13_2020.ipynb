{
  "nbformat": 4,
  "nbformat_minor": 0,
  "metadata": {
    "colab": {
      "name": "Assignment_03redo_09_13_2020.ipynb",
      "provenance": [],
      "authorship_tag": "ABX9TyOG9xnugh7FhVy1FapyFvMH",
      "include_colab_link": true
    },
    "kernelspec": {
      "name": "python3",
      "display_name": "Python 3"
    }
  },
  "cells": [
    {
      "cell_type": "markdown",
      "metadata": {
        "id": "view-in-github",
        "colab_type": "text"
      },
      "source": [
        "<a href=\"https://colab.research.google.com/github/shreshta97/DATA-690-WANG/blob/master/Assignmen_03_Assignment_03redo_09_13_2020.ipynb\" target=\"_parent\"><img src=\"https://colab.research.google.com/assets/colab-badge.svg\" alt=\"Open In Colab\"/></a>"
      ]
    },
    {
      "cell_type": "markdown",
      "metadata": {
        "id": "GjonRdTJVL0s",
        "colab_type": "text"
      },
      "source": [
        "# Assignment_03 09-13-2020\n",
        "## 1. Write a program that generates 100 random integers between 0 and 9.\n",
        "- Print them in a 10 by 10 matrix neatly arranged like the following (one space between each number):"
      ]
    },
    {
      "cell_type": "code",
      "metadata": {
        "id": "buceXTwBSH5l",
        "colab_type": "code",
        "colab": {
          "base_uri": "https://localhost:8080/",
          "height": 187
        },
        "outputId": "49d68e73-c2ed-46c0-d74c-2941a80b9236"
      },
      "source": [
        "# print a 10 by 10 array of random int by nested for loops\n",
        "import random \n",
        "for x in range(10): \n",
        "  # initialize array1 to be a random 10 digit array\n",
        "  array1 = [random.randint(0,9)] * 10 \n",
        "  # also multiply by 10 to get 10 repeats of array1\n",
        "  # second for loop to randomize each digit in array 1 from 0,9\n",
        "  for i in range (10): \n",
        "   array1[i] = random.randint(0,9)\n",
        "  \n",
        "  for i in array1: \n",
        "      print(i,end=' ') \n",
        "  # print the array with each digit being separated by one space\n",
        "  print()      \n",
        "  # blank print function takes the arrays from being in one line to 10 lines\n"
      ],
      "execution_count": 2,
      "outputs": [
        {
          "output_type": "stream",
          "text": [
            "1 8 3 5 7 0 1 7 9 1 \n",
            "7 2 4 1 8 1 0 1 7 9 \n",
            "5 6 0 5 8 7 4 3 4 0 \n",
            "4 8 7 8 8 8 3 2 4 5 \n",
            "7 8 5 2 4 6 7 9 7 1 \n",
            "5 7 2 5 9 2 5 4 7 1 \n",
            "6 8 4 8 2 7 6 8 5 1 \n",
            "2 3 2 6 1 8 8 0 7 1 \n",
            "2 7 3 5 2 8 1 7 6 1 \n",
            "8 7 4 8 8 3 7 7 3 4 \n"
          ],
          "name": "stdout"
        }
      ]
    },
    {
      "cell_type": "markdown",
      "metadata": {
        "id": "syvoLVrhcfZI",
        "colab_type": "text"
      },
      "source": [
        "#2. If the random number is an odd number, print \"@\" instead:"
      ]
    },
    {
      "cell_type": "code",
      "metadata": {
        "id": "wLfYTfrcgoth",
        "colab_type": "code",
        "colab": {
          "base_uri": "https://localhost:8080/",
          "height": 187
        },
        "outputId": "c645d2f8-ab1e-476e-ceb0-3c3aba13e897"
      },
      "source": [
        "# add in if else staments to the inner for loops to replace all odds\n",
        "for x in range(10):\n",
        "  array1 = [random.randint(0,9)] * 10\n",
        "\n",
        "  for i in range (10): \n",
        "   array1[i] = random.randint(0,9)\n",
        "  # up to this point used the same method to initailize the array\n",
        "  for i in array1: \n",
        "  # used the inner for loop to set conditions \n",
        "    if (i % 2) == 0:\n",
        "  # if even print number with space \n",
        "      print(i,end=' ')\n",
        "      \n",
        "    else:             \n",
        "      # if odd print the @ sign\n",
        "      print(\"@\",end=' ')\n",
        "  print() \n",
        "  # prints multiple lines insted of one"
      ],
      "execution_count": 3,
      "outputs": [
        {
          "output_type": "stream",
          "text": [
            "@ 4 @ @ @ @ 6 @ @ @ \n",
            "6 2 @ @ @ 0 2 @ 2 8 \n",
            "6 6 4 0 @ 2 @ @ @ @ \n",
            "0 6 2 @ 2 @ @ 2 4 @ \n",
            "2 4 @ 2 @ @ 2 @ @ 6 \n",
            "@ @ 4 @ @ @ @ @ @ @ \n",
            "6 4 @ 0 8 2 @ 8 @ 4 \n",
            "@ 6 @ 0 4 0 6 8 2 @ \n",
            "@ @ @ 8 @ @ 2 @ @ 2 \n",
            "@ 8 8 6 @ 4 8 @ 6 4 \n"
          ],
          "name": "stdout"
        }
      ]
    },
    {
      "cell_type": "markdown",
      "metadata": {
        "id": "FEq_WXgEFE52",
        "colab_type": "text"
      },
      "source": [
        "# 3.Calculate and Print the total of each row (use \"*\" to separate the total from the numbers)"
      ]
    },
    {
      "cell_type": "code",
      "metadata": {
        "id": "jOF9NMO1PY6k",
        "colab_type": "code",
        "colab": {
          "base_uri": "https://localhost:8080/",
          "height": 187
        },
        "outputId": "a868a616-18ae-4ac7-af73-5014c7f521ef"
      },
      "source": [
        "for x in range(10):\n",
        "  array1 = [random.randint(0,9)] * 10\n",
        "\n",
        "  for i in range (10): \n",
        "   array1[i] = random.randint(0,9)\n",
        "  # initialize the array again\n",
        "  sums= sum(array1) \n",
        "  # use the sum function to find the sum of each array\n",
        "  for i in array1: \n",
        "    # use a for loop to add the sums to the end of each array\n",
        "    print(i, end=' ') \n",
        "    # print each sum after each array \n",
        "  print('*', sums) \n",
        "  # print an astrisk before each sum \n",
        "\n"
      ],
      "execution_count": 4,
      "outputs": [
        {
          "output_type": "stream",
          "text": [
            "7 5 9 4 4 7 0 7 4 6 * 53\n",
            "6 9 4 4 1 3 4 4 5 0 * 40\n",
            "2 2 5 7 4 2 7 8 9 8 * 54\n",
            "8 2 2 8 4 4 9 4 6 8 * 55\n",
            "6 7 8 8 4 5 7 6 1 3 * 55\n",
            "0 2 5 6 1 2 4 0 4 0 * 24\n",
            "7 5 0 5 7 9 8 2 7 3 * 53\n",
            "8 2 1 5 9 2 7 2 5 5 * 46\n",
            "4 0 9 6 7 5 3 1 5 7 * 47\n",
            "2 4 3 0 0 2 7 7 7 9 * 41\n"
          ],
          "name": "stdout"
        }
      ]
    },
    {
      "cell_type": "markdown",
      "metadata": {
        "id": "YM-GaD7u4aef",
        "colab_type": "text"
      },
      "source": [
        "# Random Testing and scratch work \n",
        "*testing the Random_function*\n",
        "- these were ultimately too difficult to manipulate the array function ended up working better "
      ]
    },
    {
      "cell_type": "code",
      "metadata": {
        "id": "RZZtxfqxXqhJ",
        "colab_type": "code",
        "colab": {
          "base_uri": "https://localhost:8080/",
          "height": 187
        },
        "outputId": "727a2561-c957-4a98-9fec-02eace140277"
      },
      "source": [
        "# testing out different how to print a column of 10 random numbers \n",
        "import random\n",
        "for x in range(10):\n",
        "  print (random.randint(0,9))\n"
      ],
      "execution_count": null,
      "outputs": [
        {
          "output_type": "stream",
          "text": [
            "8\n",
            "4\n",
            "1\n",
            "6\n",
            "8\n",
            "5\n",
            "5\n",
            "6\n",
            "9\n",
            "5\n"
          ],
          "name": "stdout"
        }
      ]
    },
    {
      "cell_type": "code",
      "metadata": {
        "id": "4EnM6yT9aFsc",
        "colab_type": "code",
        "colab": {}
      },
      "source": [
        "print(value, ..., sep=' ', end='\\n', file=sys.stdout, flush=False)\n"
      ],
      "execution_count": null,
      "outputs": []
    },
    {
      "cell_type": "code",
      "metadata": {
        "id": "MuP_PLvG4a-A",
        "colab_type": "code",
        "colab": {}
      },
      "source": [
        "import random"
      ],
      "execution_count": null,
      "outputs": []
    },
    {
      "cell_type": "code",
      "metadata": {
        "id": "jgG2YzqqY-m7",
        "colab_type": "code",
        "colab": {
          "base_uri": "https://localhost:8080/",
          "height": 187
        },
        "outputId": "7debe3b9-2c30-4286-e6ef-b60ad1e71c66"
      },
      "source": [
        "# one way I tried printing a 10 by 10 array was difficult to manipulate \n",
        "for x in range(10):\n",
        "  a = random.randint(0,9)\n",
        "  b = random.randint(0,9)\n",
        "  c = random.randint(0,9)\n",
        "  d = random.randint(0,9)\n",
        "  e = random.randint(0,9)\n",
        "  f = random.randint(0,9)\n",
        "  g = random.randint(0,9)\n",
        "  h = random.randint(0,9)\n",
        "  i = random.randint(0,9)\n",
        "  j = random.randint(0,9)\n",
        "  print((a), (b), (c), (d), (e), (f), (g), (h), (i), (j))"
      ],
      "execution_count": null,
      "outputs": [
        {
          "output_type": "stream",
          "text": [
            "6 7 0 9 0 5 2 6 8 4\n",
            "7 0 3 7 1 2 1 4 8 8\n",
            "4 7 6 7 5 6 2 6 7 1\n",
            "2 5 7 6 2 2 3 7 5 9\n",
            "4 4 8 8 2 3 3 7 3 0\n",
            "7 4 2 2 9 8 4 3 0 8\n",
            "3 2 4 2 0 5 6 5 9 4\n",
            "6 1 3 2 9 3 9 1 0 4\n",
            "8 7 8 7 4 0 0 4 5 0\n",
            "8 7 5 1 6 6 4 9 4 1\n"
          ],
          "name": "stdout"
        }
      ]
    },
    {
      "cell_type": "code",
      "metadata": {
        "id": "sFByihVabiYN",
        "colab_type": "code",
        "colab": {
          "base_uri": "https://localhost:8080/",
          "height": 187
        },
        "outputId": "48b775b7-bd36-46a6-e779-1f2e61b26df8"
      },
      "source": [
        "# for loop to print a 10 by 10 array with spaces\n",
        "for x in range(10):\n",
        "  a = random.randint(0,9)\n",
        "  b = random.randint(0,9)\n",
        "  c = random.randint(0,9)\n",
        "  d = random.randint(0,9)\n",
        "  e = random.randint(0,9)\n",
        "  f = random.randint(0,9)\n",
        "  g = random.randint(0,9)\n",
        "  h = random.randint(0,9)\n",
        "  i = random.randint(0,9)\n",
        "  j = random.randint(0,9)\n",
        "  print((a),(''), (b),(''), (c),(''), (d),(''), (e),(''), (f),(''), (g),(''), (h),(''), (i),(''), (j))"
      ],
      "execution_count": null,
      "outputs": [
        {
          "output_type": "stream",
          "text": [
            "5  3  8  2  1  3  4  3  2  6\n",
            "5  9  2  1  0  8  9  3  5  8\n",
            "2  1  6  5  8  3  7  7  1  0\n",
            "0  8  0  8  1  2  8  0  1  7\n",
            "2  2  0  3  7  4  6  8  3  7\n",
            "5  5  2  2  7  6  8  2  5  5\n",
            "4  3  2  1  4  2  6  2  6  0\n",
            "0  1  8  2  4  2  2  7  0  5\n",
            "0  7  5  0  1  2  5  1  9  3\n",
            "8  2  4  1  5  9  4  1  9  2\n"
          ],
          "name": "stdout"
        }
      ]
    },
    {
      "cell_type": "code",
      "metadata": {
        "id": "d0gujdWVGK7e",
        "colab_type": "code",
        "colab": {
          "base_uri": "https://localhost:8080/",
          "height": 204
        },
        "outputId": "b24e4eeb-900f-4241-cdee-352c2bdcf474"
      },
      "source": [
        "# print * around the array\n",
        "print(('*'), ('*'),(''), ('*'),(''), ('*'),(''), ('*'),(''), ('*'),(''), ('*'),(''), ('*'),(''), ('*'),(''), ('*'),(''),('*'), ('*'))\n",
        "for x in range(10):\n",
        "  a = random.randint(0,9)\n",
        "  b = random.randint(0,9)\n",
        "  c = random.randint(0,9)\n",
        "  d = random.randint(0,9)\n",
        "  e = random.randint(0,9)\n",
        "  f = random.randint(0,9)\n",
        "  g = random.randint(0,9)\n",
        "  h = random.randint(0,9)\n",
        "  i = random.randint(0,9)\n",
        "  j = random.randint(0,9)\n",
        "  print(('*'), (a),(''), (b),(''), (c),(''), (d),(''), (e),(''), (f),(''), (g),(''), (h),(''), (i),(''),(j), ('*'))"
      ],
      "execution_count": null,
      "outputs": [
        {
          "output_type": "stream",
          "text": [
            "* *  *  *  *  *  *  *  *  *  * *\n",
            "* 1  9  6  8  3  4  1  0  0  0 *\n",
            "* 3  0  7  3  9  3  4  6  8  3 *\n",
            "* 5  6  6  0  6  6  0  0  8  7 *\n",
            "* 8  6  1  6  7  7  3  2  9  5 *\n",
            "* 8  0  4  9  8  5  1  9  1  8 *\n",
            "* 2  1  2  3  8  2  6  8  6  6 *\n",
            "* 8  0  4  0  1  7  1  8  4  6 *\n",
            "* 6  3  7  2  7  8  6  4  1  6 *\n",
            "* 1  6  6  2  1  0  1  4  6  1 *\n",
            "* 9  0  6  9  8  0  7  3  0  8 *\n"
          ],
          "name": "stdout"
        }
      ]
    },
    {
      "cell_type": "code",
      "metadata": {
        "id": "vqlhh9XT4hu0",
        "colab_type": "code",
        "colab": {
          "base_uri": "https://localhost:8080/",
          "height": 34
        },
        "outputId": "82a68543-062b-4ea7-d5fe-e907f04b63bf"
      },
      "source": [
        "# this outputs anynumber between 0 and 1 exclusive of 1\n",
        "x = random.random()\n",
        "print(x) \n"
      ],
      "execution_count": null,
      "outputs": [
        {
          "output_type": "stream",
          "text": [
            "0.025133724878790287\n"
          ],
          "name": "stdout"
        }
      ]
    },
    {
      "cell_type": "code",
      "metadata": {
        "id": "2qUiofUX4k4b",
        "colab_type": "code",
        "colab": {
          "base_uri": "https://localhost:8080/",
          "height": 34
        },
        "outputId": "d1b8f29c-ab7f-4ee8-ec77-fb59a49dcaaf"
      },
      "source": [
        "# outputs random integer from 1-50 inclusive \n",
        "x = random.randint(0,50)\n",
        "print(x)"
      ],
      "execution_count": null,
      "outputs": [
        {
          "output_type": "stream",
          "text": [
            "21\n"
          ],
          "name": "stdout"
        }
      ]
    },
    {
      "cell_type": "code",
      "metadata": {
        "id": "gJMydMdf4yJu",
        "colab_type": "code",
        "colab": {
          "base_uri": "https://localhost:8080/",
          "height": 34
        },
        "outputId": "c85b1742-5fc0-406d-ad37-2b0c7fa08abd"
      },
      "source": [
        "# also outputs integers 0-9\n",
        "from random import randrange\n",
        "print(randrange(10))"
      ],
      "execution_count": null,
      "outputs": [
        {
          "output_type": "stream",
          "text": [
            "0\n"
          ],
          "name": "stdout"
        }
      ]
    },
    {
      "cell_type": "code",
      "metadata": {
        "id": "JAF3e5CO4_31",
        "colab_type": "code",
        "colab": {
          "base_uri": "https://localhost:8080/",
          "height": 34
        },
        "outputId": "260f2880-5521-4125-9bfa-5ea0c37a6a57"
      },
      "source": [
        "# to generate a list of random numbers\n",
        "import random\n",
        "\n",
        "mylist = []\n",
        "\n",
        "for i in range(0,10):\n",
        "    x = random.randint(0,9)\n",
        "    mylist.append(x)\n",
        "\n",
        "print(mylist)"
      ],
      "execution_count": null,
      "outputs": [
        {
          "output_type": "stream",
          "text": [
            "[1, 8, 8, 2, 0, 3, 3, 1, 1, 0]\n"
          ],
          "name": "stdout"
        }
      ]
    },
    {
      "cell_type": "code",
      "metadata": {
        "id": "qEz-p0gU5UUm",
        "colab_type": "code",
        "colab": {
          "base_uri": "https://localhost:8080/",
          "height": 34
        },
        "outputId": "fad1c4d8-5751-4e1a-ac8b-57e0ba11f2a8"
      },
      "source": [
        "# also to generate a list of random integers \n",
        "list(range(1,10))"
      ],
      "execution_count": null,
      "outputs": [
        {
          "output_type": "execute_result",
          "data": {
            "text/plain": [
              "[1, 2, 3, 4, 5, 6, 7, 8, 9]"
            ]
          },
          "metadata": {
            "tags": []
          },
          "execution_count": 90
        }
      ]
    },
    {
      "cell_type": "code",
      "metadata": {
        "id": "YWVGtbBw5qHP",
        "colab_type": "code",
        "colab": {
          "base_uri": "https://localhost:8080/",
          "height": 54
        },
        "outputId": "566815b2-eb5c-4ae4-9055-a9067b560d9f"
      },
      "source": [
        "# shuffels the random integers using sample function\n",
        "x = random.sample(range(1,101), 100)\n",
        "print(x)"
      ],
      "execution_count": null,
      "outputs": [
        {
          "output_type": "stream",
          "text": [
            "[33, 50, 48, 9, 62, 26, 77, 36, 97, 67, 91, 100, 29, 88, 71, 11, 17, 64, 70, 81, 43, 8, 94, 59, 79, 89, 18, 65, 66, 68, 69, 35, 39, 38, 83, 12, 73, 25, 51, 45, 5, 41, 87, 93, 31, 56, 13, 46, 82, 58, 10, 98, 63, 80, 34, 23, 53, 95, 57, 21, 1, 27, 78, 4, 44, 32, 72, 60, 49, 76, 42, 54, 40, 55, 6, 75, 20, 61, 74, 85, 47, 84, 2, 3, 37, 15, 19, 96, 16, 28, 92, 14, 52, 30, 90, 86, 99, 24, 22, 7]\n"
          ],
          "name": "stdout"
        }
      ]
    },
    {
      "cell_type": "code",
      "metadata": {
        "id": "gCheMynT5s4G",
        "colab_type": "code",
        "colab": {
          "base_uri": "https://localhost:8080/",
          "height": 34
        },
        "outputId": "45108e24-6e85-4339-f2cc-38e288fec9b4"
      },
      "source": [
        "# Choosing random items from a list \n",
        "import random\n",
        "\n",
        "mylist = [1,2,3,4,5,6,7,8,9,10]\n",
        "x = random.sample(mylist,10)\n",
        "print(x)"
      ],
      "execution_count": null,
      "outputs": [
        {
          "output_type": "stream",
          "text": [
            "[8, 9, 4, 7, 5, 6, 10, 1, 2, 3]\n"
          ],
          "name": "stdout"
        }
      ]
    },
    {
      "cell_type": "code",
      "metadata": {
        "id": "mi1fhxAd6ATU",
        "colab_type": "code",
        "colab": {
          "base_uri": "https://localhost:8080/",
          "height": 187
        },
        "outputId": "3276a9c3-9760-41eb-b781-908d30352d83"
      },
      "source": [
        "Int_list = [0,1,2,3,4,5,6,7,8,9]\n",
        "for i in Int_list: \n",
        "  x = randrange(10)\n",
        "  print(x)"
      ],
      "execution_count": null,
      "outputs": [
        {
          "output_type": "stream",
          "text": [
            "9\n",
            "7\n",
            "0\n",
            "7\n",
            "4\n",
            "1\n",
            "1\n",
            "2\n",
            "4\n",
            "4\n"
          ],
          "name": "stdout"
        }
      ]
    },
    {
      "cell_type": "code",
      "metadata": {
        "id": "Z1WKqtTF6cBq",
        "colab_type": "code",
        "colab": {
          "base_uri": "https://localhost:8080/",
          "height": 187
        },
        "outputId": "37c50995-f26f-4d0f-f99e-7e35354be1fc"
      },
      "source": [
        "Int_list = [0,1,2,3,4,5,6,7,8,9]\n",
        "for i in Int_list:\n",
        "  x = randrange(10)\n",
        "  print(f\"{x} {x}\")"
      ],
      "execution_count": null,
      "outputs": [
        {
          "output_type": "stream",
          "text": [
            "6 6\n",
            "2 2\n",
            "5 5\n",
            "4 4\n",
            "3 3\n",
            "5 5\n",
            "0 0\n",
            "1 1\n",
            "1 1\n",
            "9 9\n"
          ],
          "name": "stdout"
        }
      ]
    },
    {
      "cell_type": "code",
      "metadata": {
        "id": "7VPOKidEAnZS",
        "colab_type": "code",
        "colab": {}
      },
      "source": [
        ""
      ],
      "execution_count": null,
      "outputs": []
    }
  ]
}