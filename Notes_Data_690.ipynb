{
  "nbformat": 4,
  "nbformat_minor": 0,
  "metadata": {
    "colab": {
      "name": "Notes Data 690.ipynb",
      "provenance": [],
      "authorship_tag": "ABX9TyMOTXeiIt8wZeSNwoGMINQW",
      "include_colab_link": true
    },
    "kernelspec": {
      "name": "python3",
      "display_name": "Python 3"
    }
  },
  "cells": [
    {
      "cell_type": "markdown",
      "metadata": {
        "id": "view-in-github",
        "colab_type": "text"
      },
      "source": [
        "<a href=\"https://colab.research.google.com/github/shreshta97/DATA-690-WANG/blob/master/Notes_Data_690.ipynb\" target=\"_parent\"><img src=\"https://colab.research.google.com/assets/colab-badge.svg\" alt=\"Open In Colab\"/></a>"
      ]
    },
    {
      "cell_type": "markdown",
      "metadata": {
        "id": "i83OEmRLMpAz",
        "colab_type": "text"
      },
      "source": [
        "## Data 690 Notes (20200903)\n",
        "- Some discussion on Assignment 1\n",
        "  - Text book should be 2nd Addition\n",
        "- Tips for python\n",
        "  - python is case sensitive \n",
        "  - keep four spaces for indentation \n",
        "  - Remember colon at the end of statements \n",
        "  - indifinte loop shut down the kernel and restart \n",
        "  - infininte loop in python script CTRL-c to quit \n",
        "  - Keep track of your current directory where the files are \n",
        "- Rules for assignment submission\n",
        "  - Two day grqace period after the due date \n",
        "  - loose half the total points after that \n",
        "  - exceptions if you communicate it with legitimate reason \n",
        "\n",
        "\n",
        "# Intro to New Environments \n",
        "\n",
        "\n"
      ]
    }
  ]
}