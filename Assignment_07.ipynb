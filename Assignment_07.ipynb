{
 "cells": [
  {
   "cell_type": "code",
   "execution_count": 1,
   "metadata": {},
   "outputs": [],
   "source": [
    "# <1> \n",
    "# Import libraries\n",
    "\n",
    "import pandas as pd "
   ]
  },
  {
   "cell_type": "code",
   "execution_count": 2,
   "metadata": {},
   "outputs": [
    {
     "data": {
      "text/plain": [
       "'/Users/shreshtaphogat'"
      ]
     },
     "execution_count": 2,
     "metadata": {},
     "output_type": "execute_result"
    }
   ],
   "source": [
    "# <2> \n",
    "# Display the current workin directory using os.getcwd()\n",
    "# you would need to import a standard Python library called os which stands for operating system,\n",
    "# so place that import statement in the previous cell.\n",
    "# Since your notebook and your data files are not in # the same folder, \n",
    "# you want to make sure what is the current working folder and \n",
    "# how to access a data file in a different folder\n",
    "\n",
    "import os \n",
    "os.getcwd()"
   ]
  },
  {
   "cell_type": "code",
   "execution_count": 3,
   "metadata": {},
   "outputs": [
    {
     "name": "stdout",
     "output_type": "stream",
     "text": [
      "Files and directories in ' /Users/shreshtaphogat/Desktop/Assignment7/CollegeScorecard_Raw_Data ' :\n",
      "['MERGED2011_12_PP.csv', 'MERGED1999_00_PP.csv', 'MERGED2006_07_PP.csv', 'MERGED2014_15_PP.csv', '.DS_Store', 'MERGED2003_04_PP.csv', 'MERGED1996_97_PP.csv', 'MERGED2012_13_PP.csv', 'MERGED2005_06_PP.csv', 'MERGED2009_10_PP.csv', 'MERGED2018_19_PP.csv', 'MERGED2017_18_PP.csv', 'MERGED2000_01_PP.csv', 'MERGED2001_02_PP.csv', 'MERGED2016_17_PP.csv', 'MERGED1997_98_PP.csv', 'MERGED1998_99_PP.csv', 'MERGED2004_05_PP.csv', 'MERGED2002_03_PP.csv', 'MERGED2015_16_PP.csv', 'MERGED2013_14_PP.csv', 'MERGED2007_08_PP.csv', 'MERGED2008_09_PP.csv', 'MERGED2010_11_PP.csv']\n"
     ]
    }
   ],
   "source": [
    "# <3> \n",
    "# os library has a method call listdir which generates a list of files in a directory/folder.\n",
    "# use this method to assign the contents (list of file names) of the data folder to a variable and display it.\n",
    "# # You can use ../ construct to traverse to the parent folder and then to another foloder parallel to the current folder\n",
    "\n",
    "#(Write code here)\n",
    "path = \"/Users/shreshtaphogat/Desktop/Assignment7/CollegeScorecard_Raw_Data\"\n",
    "dir_list = os.listdir(path) \n",
    "  \n",
    "print(\"Files and directories in '\", path, \"' :\")  \n",
    "  \n",
    "# print the list \n",
    "print(dir_list)"
   ]
  },
  {
   "cell_type": "code",
   "execution_count": 4,
   "metadata": {},
   "outputs": [],
   "source": [
    "# <4> \n",
    "# The folder contains files that are not the yearly data files\n",
    "# write code to remove the unwanted files from the list vsriable \n",
    "# Note: don't remove/delete these files from the folder in your drive\n",
    "# For example, use the file extension to only keep the csv files \n",
    "# or use the name patter - data file name begins with \"MERGED\"\n",
    "# You can use the concept of list comprehension to write just \n",
    "# one line of code as well as using a for loop, your choice.\n",
    "\n",
    "#(Write code here)\n",
    "import glob\n",
    "\n",
    "os.chdir(path)\n",
    "result = glob.glob( '*/**.csv' )\n"
   ]
  },
  {
   "cell_type": "code",
   "execution_count": 5,
   "metadata": {},
   "outputs": [
    {
     "name": "stderr",
     "output_type": "stream",
     "text": [
      "/Users/shreshtaphogat/opt/anaconda3/lib/python3.8/site-packages/IPython/core/interactiveshell.py:3343: DtypeWarning: Columns (1433,1447,1537,1540,1542,1547,1553,1554,1559,1560,1606,1614,1615,1636,1637,1638,1639,1640,1641,1642,1643,1644,1645,1646,1647,1648,1649,1650,1651,1652,1653,1658,1659,1729,1909,1910,1911,1912,1913) have mixed types.Specify dtype option on import or set low_memory=False.\n",
      "  exec(code_obj, self.user_global_ns, self.user_ns)\n",
      "/Users/shreshtaphogat/opt/anaconda3/lib/python3.8/site-packages/IPython/core/interactiveshell.py:3343: DtypeWarning: Columns (1) have mixed types.Specify dtype option on import or set low_memory=False.\n",
      "  exec(code_obj, self.user_global_ns, self.user_ns)\n",
      "/Users/shreshtaphogat/opt/anaconda3/lib/python3.8/site-packages/IPython/core/interactiveshell.py:3343: DtypeWarning: Columns (1,1489,1537,1540,1542,1606,1614,1615) have mixed types.Specify dtype option on import or set low_memory=False.\n",
      "  exec(code_obj, self.user_global_ns, self.user_ns)\n",
      "/Users/shreshtaphogat/opt/anaconda3/lib/python3.8/site-packages/IPython/core/interactiveshell.py:3343: DtypeWarning: Columns (6,1537,1540,1542,1589,1606,1610,1614,1615,1729,1909,1910,1911,1912,1913) have mixed types.Specify dtype option on import or set low_memory=False.\n",
      "  exec(code_obj, self.user_global_ns, self.user_ns)\n",
      "/Users/shreshtaphogat/opt/anaconda3/lib/python3.8/site-packages/IPython/core/interactiveshell.py:3343: DtypeWarning: Columns (1,442,1407,1408,1411,1412,1413,1426,1431,1432,1433,1437,1438,1445,1446,1447,1503,1517,1520,1523,1524,1529,1530,1532,1537,1538,1539,1540,1541,1542,1605,1606,1608,1610,1611,1613,1614,1615,1616,1619,1620,1621,1622,1623,1624,1625,1626,1627,1628,1629,1708) have mixed types.Specify dtype option on import or set low_memory=False.\n",
      "  exec(code_obj, self.user_global_ns, self.user_ns)\n",
      "/Users/shreshtaphogat/opt/anaconda3/lib/python3.8/site-packages/IPython/core/interactiveshell.py:3343: DtypeWarning: Columns (1575,1729,1909,1910,1911,1912,1913) have mixed types.Specify dtype option on import or set low_memory=False.\n",
      "  exec(code_obj, self.user_global_ns, self.user_ns)\n",
      "/Users/shreshtaphogat/opt/anaconda3/lib/python3.8/site-packages/IPython/core/interactiveshell.py:3343: DtypeWarning: Columns (1,1351,1365,1377,1378,1407,1408,1411,1426,1431,1432,1433,1445,1446,1447,1537,1538,1539,1540,1541,1542,1547,1548,1549,1553,1554,1559,1560,1561,1562,1563,1567,1568,1571,1572,1573,1574,1606,1609,1610,1611,1613,1614,1615,1616,1636,1637,1711,1723,1724,1729,1909,1910,1911,1912,1913) have mixed types.Specify dtype option on import or set low_memory=False.\n",
      "  exec(code_obj, self.user_global_ns, self.user_ns)\n",
      "/Users/shreshtaphogat/opt/anaconda3/lib/python3.8/site-packages/IPython/core/interactiveshell.py:3343: DtypeWarning: Columns (9,1725,1726,1727,1728,1729,1743,1815,1816,1817,1818,1823,1824,1830,1831,1879,1880,1881,1882,1883,1884,1885,1886,1887,1888,1889,1890,1891,1892,1893,1894,1895,1896,1897,1898,1909,1910,1911,1912,1913,1957,1958,1959,1960,1961,1962,1963,1964,1965,1966,1967,1968,1969,1970,1971,1972,1973,1974,1975,1976,1983,1984) have mixed types.Specify dtype option on import or set low_memory=False.\n",
      "  exec(code_obj, self.user_global_ns, self.user_ns)\n",
      "/Users/shreshtaphogat/opt/anaconda3/lib/python3.8/site-packages/IPython/core/interactiveshell.py:3343: DtypeWarning: Columns (1729) have mixed types.Specify dtype option on import or set low_memory=False.\n",
      "  exec(code_obj, self.user_global_ns, self.user_ns)\n",
      "/Users/shreshtaphogat/opt/anaconda3/lib/python3.8/site-packages/IPython/core/interactiveshell.py:3343: DtypeWarning: Columns (6,1729,1909,1910,1911,1912,1913) have mixed types.Specify dtype option on import or set low_memory=False.\n",
      "  exec(code_obj, self.user_global_ns, self.user_ns)\n",
      "/Users/shreshtaphogat/opt/anaconda3/lib/python3.8/site-packages/IPython/core/interactiveshell.py:3343: DtypeWarning: Columns (1,1909,1910,1911,1912,1913) have mixed types.Specify dtype option on import or set low_memory=False.\n",
      "  exec(code_obj, self.user_global_ns, self.user_ns)\n",
      "/Users/shreshtaphogat/opt/anaconda3/lib/python3.8/site-packages/IPython/core/interactiveshell.py:3343: DtypeWarning: Columns (1547,1575,1729,1909,1910,1911,1912,1913) have mixed types.Specify dtype option on import or set low_memory=False.\n",
      "  exec(code_obj, self.user_global_ns, self.user_ns)\n",
      "/Users/shreshtaphogat/opt/anaconda3/lib/python3.8/site-packages/IPython/core/interactiveshell.py:3343: DtypeWarning: Columns (1,1475) have mixed types.Specify dtype option on import or set low_memory=False.\n",
      "  exec(code_obj, self.user_global_ns, self.user_ns)\n"
     ]
    }
   ],
   "source": [
    "# <5> \n",
    "# Now that you have a clean list of the yearly files, you want to loop through them\n",
    "# and read them into a dataframe one at a time. You only load six columns: \n",
    "# [\"UNITID\", \"INSTNM\", \"STABBR\", \"REGION\", \"ADM_RATE\", \"TUITIONFEE_IN\"].\n",
    "# You should use \"usecols\" option of Pandas to avoid reading unwanted columns.\n",
    "# You also want to add a new column call \"YEAR\" to differentiate the data frames from each other.\n",
    "# The YEAR variable should be yyyy format so tht you can convert them into integer.\n",
    "# if you use the format yyyy-yy (such as 1997-98 school year), you will not be able to convert them directly to integer\n",
    "# if you use scatter plot, the YEAR needs to be converted to integer or float. \n",
    "# \n",
    "# You would use an empty list and append the yearly dataframes to the list.\n",
    "# After all data files are loaded and appended to the list, you would use Pandas to concatenate them into a \n",
    "# new single data frame.\n",
    "# Note: this exercise incorporates many techques we learned before\n",
    "# - list (creating an empty, append an item to the list)\n",
    "# - for loop \n",
    "# - read only the needed columns from a file (using usecols option)\n",
    "# - add a new column to a data frame\n",
    "# - concatenate multiple dataframes into a single one\n",
    "# This exercise may appear a big challenging but it worths the effort. You will learn a lot and  love it. I promise.\n",
    "\n",
    "#(Write code here)\n",
    "\n",
    "from os import listdir\n",
    "\n",
    "filepaths = [f for f in listdir(path) if f.endswith('.csv')]\n",
    "df = pd.concat(map(pd.read_csv, filepaths))\n"
   ]
  },
  {
   "cell_type": "code",
   "execution_count": 6,
   "metadata": {},
   "outputs": [
    {
     "name": "stdout",
     "output_type": "stream",
     "text": [
      "Smaller DataFrame:\n",
      "   UNITID                               INSTNM STABBR  REGION  ADM_RATE  \\\n",
      "0  100654             Alabama A & M University     AL     5.0    0.5010   \n",
      "1  100663  University of Alabama at Birmingham     AL     5.0    0.7223   \n",
      "2  100690                   Amridge University     AL     5.0       NaN   \n",
      "3  100706  University of Alabama in Huntsville     AL     5.0    0.6368   \n",
      "4  100724             Alabama State University     AL     5.0    0.5080   \n",
      "\n",
      "   TUITIONFEE_IN  \n",
      "0         6828.0  \n",
      "1         6264.0  \n",
      "2         8720.0  \n",
      "3         8094.0  \n",
      "4         8082.0  \n"
     ]
    }
   ],
   "source": [
    "small_df = df[[\"UNITID\", \"INSTNM\", \"STABBR\", \"REGION\", \"ADM_RATE\", \"TUITIONFEE_IN\"]]\n",
    "print(\"Smaller DataFrame:\")\n",
    "print(small_df.head())"
   ]
  },
  {
   "cell_type": "code",
   "execution_count": 7,
   "metadata": {},
   "outputs": [
    {
     "name": "stdout",
     "output_type": "stream",
     "text": [
      "shape of dataframe (163331, 6)\n",
      "number of rows :  163331\n",
      "number of columns :  6\n"
     ]
    }
   ],
   "source": [
    "# <6> \n",
    "# explore the new dataframe (# of observations, varibles, head, tail, sample, missing values, statistics,etc.)\n",
    "\n",
    "#(Write code here)\n",
    "print(\"shape of dataframe\", small_df.shape) \n",
    "  \n",
    "# obtaining the number of rows \n",
    "print(\"number of rows : \", small_df.shape[0]) \n",
    "  \n",
    "# obtaining the number of columns \n",
    "print(\"number of columns : \", small_df.shape[1]) "
   ]
  },
  {
   "cell_type": "code",
   "execution_count": 8,
   "metadata": {},
   "outputs": [
    {
     "data": {
      "text/html": [
       "<div>\n",
       "<style scoped>\n",
       "    .dataframe tbody tr th:only-of-type {\n",
       "        vertical-align: middle;\n",
       "    }\n",
       "\n",
       "    .dataframe tbody tr th {\n",
       "        vertical-align: top;\n",
       "    }\n",
       "\n",
       "    .dataframe thead th {\n",
       "        text-align: right;\n",
       "    }\n",
       "</style>\n",
       "<table border=\"1\" class=\"dataframe\">\n",
       "  <thead>\n",
       "    <tr style=\"text-align: right;\">\n",
       "      <th></th>\n",
       "      <th>UNITID</th>\n",
       "      <th>INSTNM</th>\n",
       "      <th>STABBR</th>\n",
       "      <th>REGION</th>\n",
       "      <th>ADM_RATE</th>\n",
       "      <th>TUITIONFEE_IN</th>\n",
       "    </tr>\n",
       "  </thead>\n",
       "  <tbody>\n",
       "    <tr>\n",
       "      <th>0</th>\n",
       "      <td>100654</td>\n",
       "      <td>Alabama A &amp; M University</td>\n",
       "      <td>AL</td>\n",
       "      <td>5.0</td>\n",
       "      <td>0.5010</td>\n",
       "      <td>6828.0</td>\n",
       "    </tr>\n",
       "    <tr>\n",
       "      <th>1</th>\n",
       "      <td>100663</td>\n",
       "      <td>University of Alabama at Birmingham</td>\n",
       "      <td>AL</td>\n",
       "      <td>5.0</td>\n",
       "      <td>0.7223</td>\n",
       "      <td>6264.0</td>\n",
       "    </tr>\n",
       "    <tr>\n",
       "      <th>2</th>\n",
       "      <td>100690</td>\n",
       "      <td>Amridge University</td>\n",
       "      <td>AL</td>\n",
       "      <td>5.0</td>\n",
       "      <td>NaN</td>\n",
       "      <td>8720.0</td>\n",
       "    </tr>\n",
       "    <tr>\n",
       "      <th>3</th>\n",
       "      <td>100706</td>\n",
       "      <td>University of Alabama in Huntsville</td>\n",
       "      <td>AL</td>\n",
       "      <td>5.0</td>\n",
       "      <td>0.6368</td>\n",
       "      <td>8094.0</td>\n",
       "    </tr>\n",
       "    <tr>\n",
       "      <th>4</th>\n",
       "      <td>100724</td>\n",
       "      <td>Alabama State University</td>\n",
       "      <td>AL</td>\n",
       "      <td>5.0</td>\n",
       "      <td>0.5080</td>\n",
       "      <td>8082.0</td>\n",
       "    </tr>\n",
       "  </tbody>\n",
       "</table>\n",
       "</div>"
      ],
      "text/plain": [
       "   UNITID                               INSTNM STABBR  REGION  ADM_RATE  \\\n",
       "0  100654             Alabama A & M University     AL     5.0    0.5010   \n",
       "1  100663  University of Alabama at Birmingham     AL     5.0    0.7223   \n",
       "2  100690                   Amridge University     AL     5.0       NaN   \n",
       "3  100706  University of Alabama in Huntsville     AL     5.0    0.6368   \n",
       "4  100724             Alabama State University     AL     5.0    0.5080   \n",
       "\n",
       "   TUITIONFEE_IN  \n",
       "0         6828.0  \n",
       "1         6264.0  \n",
       "2         8720.0  \n",
       "3         8094.0  \n",
       "4         8082.0  "
      ]
     },
     "execution_count": 8,
     "metadata": {},
     "output_type": "execute_result"
    }
   ],
   "source": [
    "small_df.head(5) "
   ]
  },
  {
   "cell_type": "code",
   "execution_count": 9,
   "metadata": {},
   "outputs": [
    {
     "data": {
      "text/html": [
       "<div>\n",
       "<style scoped>\n",
       "    .dataframe tbody tr th:only-of-type {\n",
       "        vertical-align: middle;\n",
       "    }\n",
       "\n",
       "    .dataframe tbody tr th {\n",
       "        vertical-align: top;\n",
       "    }\n",
       "\n",
       "    .dataframe thead th {\n",
       "        text-align: right;\n",
       "    }\n",
       "</style>\n",
       "<table border=\"1\" class=\"dataframe\">\n",
       "  <thead>\n",
       "    <tr style=\"text-align: right;\">\n",
       "      <th></th>\n",
       "      <th>UNITID</th>\n",
       "      <th>INSTNM</th>\n",
       "      <th>STABBR</th>\n",
       "      <th>REGION</th>\n",
       "      <th>ADM_RATE</th>\n",
       "      <th>TUITIONFEE_IN</th>\n",
       "    </tr>\n",
       "  </thead>\n",
       "  <tbody>\n",
       "    <tr>\n",
       "      <th>7465</th>\n",
       "      <td>45896402</td>\n",
       "      <td>Strayer University-Charleston Campus</td>\n",
       "      <td>SC</td>\n",
       "      <td>5.0</td>\n",
       "      <td>NaN</td>\n",
       "      <td>14085.0</td>\n",
       "    </tr>\n",
       "    <tr>\n",
       "      <th>7466</th>\n",
       "      <td>45897301</td>\n",
       "      <td>Strayer University-Irving</td>\n",
       "      <td>TX</td>\n",
       "      <td>6.0</td>\n",
       "      <td>NaN</td>\n",
       "      <td>14085.0</td>\n",
       "    </tr>\n",
       "    <tr>\n",
       "      <th>7467</th>\n",
       "      <td>45897302</td>\n",
       "      <td>Strayer University-Katy</td>\n",
       "      <td>TX</td>\n",
       "      <td>6.0</td>\n",
       "      <td>NaN</td>\n",
       "      <td>14085.0</td>\n",
       "    </tr>\n",
       "    <tr>\n",
       "      <th>7468</th>\n",
       "      <td>45897303</td>\n",
       "      <td>Strayer University-Northwest Houston</td>\n",
       "      <td>TX</td>\n",
       "      <td>6.0</td>\n",
       "      <td>NaN</td>\n",
       "      <td>14085.0</td>\n",
       "    </tr>\n",
       "    <tr>\n",
       "      <th>7469</th>\n",
       "      <td>45897304</td>\n",
       "      <td>Strayer University-Plano</td>\n",
       "      <td>TX</td>\n",
       "      <td>6.0</td>\n",
       "      <td>NaN</td>\n",
       "      <td>14085.0</td>\n",
       "    </tr>\n",
       "  </tbody>\n",
       "</table>\n",
       "</div>"
      ],
      "text/plain": [
       "        UNITID                                INSTNM STABBR  REGION  ADM_RATE  \\\n",
       "7465  45896402  Strayer University-Charleston Campus     SC     5.0       NaN   \n",
       "7466  45897301             Strayer University-Irving     TX     6.0       NaN   \n",
       "7467  45897302               Strayer University-Katy     TX     6.0       NaN   \n",
       "7468  45897303  Strayer University-Northwest Houston     TX     6.0       NaN   \n",
       "7469  45897304              Strayer University-Plano     TX     6.0       NaN   \n",
       "\n",
       "      TUITIONFEE_IN  \n",
       "7465        14085.0  \n",
       "7466        14085.0  \n",
       "7467        14085.0  \n",
       "7468        14085.0  \n",
       "7469        14085.0  "
      ]
     },
     "execution_count": 9,
     "metadata": {},
     "output_type": "execute_result"
    }
   ],
   "source": [
    "# for data visualization we filter last 5 datasets using tail indexing\n",
    "small_df.tail(5) "
   ]
  },
  {
   "cell_type": "code",
   "execution_count": 10,
   "metadata": {},
   "outputs": [
    {
     "data": {
      "text/html": [
       "<div>\n",
       "<style scoped>\n",
       "    .dataframe tbody tr th:only-of-type {\n",
       "        vertical-align: middle;\n",
       "    }\n",
       "\n",
       "    .dataframe tbody tr th {\n",
       "        vertical-align: top;\n",
       "    }\n",
       "\n",
       "    .dataframe thead th {\n",
       "        text-align: right;\n",
       "    }\n",
       "</style>\n",
       "<table border=\"1\" class=\"dataframe\">\n",
       "  <thead>\n",
       "    <tr style=\"text-align: right;\">\n",
       "      <th></th>\n",
       "      <th>UNITID</th>\n",
       "      <th>INSTNM</th>\n",
       "      <th>STABBR</th>\n",
       "      <th>REGION</th>\n",
       "      <th>ADM_RATE</th>\n",
       "      <th>TUITIONFEE_IN</th>\n",
       "    </tr>\n",
       "  </thead>\n",
       "  <tbody>\n",
       "    <tr>\n",
       "      <th>3884</th>\n",
       "      <td>218885</td>\n",
       "      <td>Tri-County Technical College</td>\n",
       "      <td>SC</td>\n",
       "      <td>5.0</td>\n",
       "      <td>NaN</td>\n",
       "      <td>2738.0</td>\n",
       "    </tr>\n",
       "    <tr>\n",
       "      <th>5107</th>\n",
       "      <td>377546</td>\n",
       "      <td>Northwest College of Art &amp; Design</td>\n",
       "      <td>WA</td>\n",
       "      <td>8.0</td>\n",
       "      <td>0.6173</td>\n",
       "      <td>14400.0</td>\n",
       "    </tr>\n",
       "    <tr>\n",
       "      <th>5946</th>\n",
       "      <td>381404</td>\n",
       "      <td>Ogle School Hair Skin Nails-Dallas</td>\n",
       "      <td>TX</td>\n",
       "      <td>6.0</td>\n",
       "      <td>NaN</td>\n",
       "      <td>NaN</td>\n",
       "    </tr>\n",
       "    <tr>\n",
       "      <th>1379</th>\n",
       "      <td>156860</td>\n",
       "      <td>Hopkinsville Community College</td>\n",
       "      <td>KY</td>\n",
       "      <td>5.0</td>\n",
       "      <td>NaN</td>\n",
       "      <td>3624.0</td>\n",
       "    </tr>\n",
       "    <tr>\n",
       "      <th>2977</th>\n",
       "      <td>197610</td>\n",
       "      <td>Yeshivat Mikdash Melech</td>\n",
       "      <td>NY</td>\n",
       "      <td>2.0</td>\n",
       "      <td>1.0000</td>\n",
       "      <td>6500.0</td>\n",
       "    </tr>\n",
       "  </tbody>\n",
       "</table>\n",
       "</div>"
      ],
      "text/plain": [
       "      UNITID                              INSTNM STABBR  REGION  ADM_RATE  \\\n",
       "3884  218885        Tri-County Technical College     SC     5.0       NaN   \n",
       "5107  377546   Northwest College of Art & Design     WA     8.0    0.6173   \n",
       "5946  381404  Ogle School Hair Skin Nails-Dallas     TX     6.0       NaN   \n",
       "1379  156860      Hopkinsville Community College     KY     5.0       NaN   \n",
       "2977  197610             Yeshivat Mikdash Melech     NY     2.0    1.0000   \n",
       "\n",
       "      TUITIONFEE_IN  \n",
       "3884         2738.0  \n",
       "5107        14400.0  \n",
       "5946            NaN  \n",
       "1379         3624.0  \n",
       "2977         6500.0  "
      ]
     },
     "execution_count": 10,
     "metadata": {},
     "output_type": "execute_result"
    }
   ],
   "source": [
    "# displaying 5 random rows \n",
    "small_df.sample(n = 5, random_state = 2) "
   ]
  },
  {
   "cell_type": "code",
   "execution_count": 11,
   "metadata": {},
   "outputs": [
    {
     "name": "stdout",
     "output_type": "stream",
     "text": [
      "      Year  UNITID                                   INSTNM STABBR  REGION  \\\n",
      "1694  1996  163268  University of Maryland-Baltimore County     MD     2.0   \n",
      "1955  1997  163268  University of Maryland-Baltimore County     MD     2.0   \n",
      "1799  1998  163268  University of Maryland-Baltimore County     MD     2.0   \n",
      "1610  1999  163268  University of Maryland-Baltimore County     MD     2.0   \n",
      "1873  2000  163268  University of Maryland-Baltimore County     MD     2.0   \n",
      "2151  2001  163268  University of Maryland-Baltimore County     MD     2.0   \n",
      "1660  2002  163268  University of Maryland-Baltimore County     MD     2.0   \n",
      "1819  2003  163268  University of Maryland-Baltimore County     MD     2.0   \n",
      "1745  2004  163268  University of Maryland-Baltimore County     MD     2.0   \n",
      "1415  2005  163268  University of Maryland-Baltimore County     MD     2.0   \n",
      "1478  2006  163268  University of Maryland-Baltimore County     MD     2.0   \n",
      "1926  2007  163268  University of Maryland-Baltimore County     MD     2.0   \n",
      "1915  2008  163268  University of Maryland-Baltimore County     MD     2.0   \n",
      "1510  2009  163268  University of Maryland-Baltimore County     MD     2.0   \n",
      "2049  2010  163268  University of Maryland-Baltimore County     MD     2.0   \n",
      "1982  2011  163268  University of Maryland-Baltimore County     MD     2.0   \n",
      "1830  2012  163268  University of Maryland-Baltimore County     MD     2.0   \n",
      "1893  2013  163268  University of Maryland-Baltimore County     MD     2.0   \n",
      "1555  2014  163268  University of Maryland-Baltimore County     MD     2.0   \n",
      "1629  2015  163268  University of Maryland-Baltimore County     MD     2.0   \n",
      "1779  2016  163268  University of Maryland-Baltimore County     MD     2.0   \n",
      "1767  2017  163268  University of Maryland-Baltimore County     MD     2.0   \n",
      "1710  2018  163268  University of Maryland-Baltimore County     MD     2.0   \n",
      "\n",
      "      ADM_RATE  TUITIONFEE_IN  \n",
      "1694    0.6081         9467.0  \n",
      "1955       NaN            NaN  \n",
      "1799    0.7153         8622.0  \n",
      "1610    0.5961        10384.0  \n",
      "1873    0.5757         7388.0  \n",
      "2151       NaN            NaN  \n",
      "1660    0.6035         9764.0  \n",
      "1819    0.7143         8520.0  \n",
      "1745    0.6890         8872.0  \n",
      "1415    0.5794        11778.0  \n",
      "1478    0.6021        11518.0  \n",
      "1926       NaN         5490.0  \n",
      "1915    0.6551         5910.0  \n",
      "1510    0.5683        11264.0  \n",
      "2049       NaN            NaN  \n",
      "1982       NaN            NaN  \n",
      "1830    0.7014         8020.0  \n",
      "1893    0.6327         6362.0  \n",
      "1555    0.5942        11006.0  \n",
      "1629    0.6315        10068.0  \n",
      "1779    0.6895         8708.0  \n",
      "1767    0.7174         8780.0  \n",
      "1710    0.6589         9171.0  \n"
     ]
    }
   ],
   "source": [
    "# <7>\n",
    "# the dataframe contains many years of data of all U.S. colleges.\n",
    "# let's just look at UMBC\n",
    "# filter/query the dataframe to retrieve only rows that belong to UMBC\n",
    "# save the UMNC data to a new data frame. using a new variable \n",
    "# so that the old big data frame is still available for later use.\n",
    "\n",
    "#(Write code here)\n",
    "select_UMBC = small_df.loc[df['INSTNM'] == 'University of Maryland-Baltimore County']\n",
    "\n",
    "UMBC_df = select_UMBC\n",
    "\n",
    "UMBC_df.insert(0, \"Year\", [1996,1997, 1998, 1999, 2000, 2001, 2002, 2003, 2004, 2005, 2006, 2007, 2008, 2009, 2010, 2011, 2012, 2013, 2014, 2015, 2016, 2017, 2018], True) \n",
    "\n",
    "print(UMBC_df)"
   ]
  },
  {
   "cell_type": "code",
   "execution_count": 12,
   "metadata": {},
   "outputs": [
    {
     "name": "stdout",
     "output_type": "stream",
     "text": [
      "shape of dataframe (23, 7)\n",
      "number of rows :  23\n",
      "number of columns :  7\n"
     ]
    }
   ],
   "source": [
    "# <8>\n",
    "# Explore this UMBC dataframe (# of observations, varibles, head, tail, sample, missing values, statistics,etc.)\n",
    "\n",
    "#(Write code here)\n",
    "print(\"shape of dataframe\", UMBC_df.shape) \n",
    "  \n",
    "# obtaining the number of rows \n",
    "print(\"number of rows : \", UMBC_df.shape[0]) \n",
    "  \n",
    "# obtaining the number of columns \n",
    "print(\"number of columns : \", UMBC_df.shape[1]) "
   ]
  },
  {
   "cell_type": "code",
   "execution_count": 13,
   "metadata": {},
   "outputs": [
    {
     "data": {
      "text/html": [
       "<div>\n",
       "<style scoped>\n",
       "    .dataframe tbody tr th:only-of-type {\n",
       "        vertical-align: middle;\n",
       "    }\n",
       "\n",
       "    .dataframe tbody tr th {\n",
       "        vertical-align: top;\n",
       "    }\n",
       "\n",
       "    .dataframe thead th {\n",
       "        text-align: right;\n",
       "    }\n",
       "</style>\n",
       "<table border=\"1\" class=\"dataframe\">\n",
       "  <thead>\n",
       "    <tr style=\"text-align: right;\">\n",
       "      <th></th>\n",
       "      <th>Year</th>\n",
       "      <th>UNITID</th>\n",
       "      <th>INSTNM</th>\n",
       "      <th>STABBR</th>\n",
       "      <th>REGION</th>\n",
       "      <th>ADM_RATE</th>\n",
       "      <th>TUITIONFEE_IN</th>\n",
       "    </tr>\n",
       "  </thead>\n",
       "  <tbody>\n",
       "    <tr>\n",
       "      <th>1555</th>\n",
       "      <td>2014</td>\n",
       "      <td>163268</td>\n",
       "      <td>University of Maryland-Baltimore County</td>\n",
       "      <td>MD</td>\n",
       "      <td>2.0</td>\n",
       "      <td>0.5942</td>\n",
       "      <td>11006.0</td>\n",
       "    </tr>\n",
       "    <tr>\n",
       "      <th>1629</th>\n",
       "      <td>2015</td>\n",
       "      <td>163268</td>\n",
       "      <td>University of Maryland-Baltimore County</td>\n",
       "      <td>MD</td>\n",
       "      <td>2.0</td>\n",
       "      <td>0.6315</td>\n",
       "      <td>10068.0</td>\n",
       "    </tr>\n",
       "    <tr>\n",
       "      <th>1779</th>\n",
       "      <td>2016</td>\n",
       "      <td>163268</td>\n",
       "      <td>University of Maryland-Baltimore County</td>\n",
       "      <td>MD</td>\n",
       "      <td>2.0</td>\n",
       "      <td>0.6895</td>\n",
       "      <td>8708.0</td>\n",
       "    </tr>\n",
       "    <tr>\n",
       "      <th>1767</th>\n",
       "      <td>2017</td>\n",
       "      <td>163268</td>\n",
       "      <td>University of Maryland-Baltimore County</td>\n",
       "      <td>MD</td>\n",
       "      <td>2.0</td>\n",
       "      <td>0.7174</td>\n",
       "      <td>8780.0</td>\n",
       "    </tr>\n",
       "    <tr>\n",
       "      <th>1710</th>\n",
       "      <td>2018</td>\n",
       "      <td>163268</td>\n",
       "      <td>University of Maryland-Baltimore County</td>\n",
       "      <td>MD</td>\n",
       "      <td>2.0</td>\n",
       "      <td>0.6589</td>\n",
       "      <td>9171.0</td>\n",
       "    </tr>\n",
       "  </tbody>\n",
       "</table>\n",
       "</div>"
      ],
      "text/plain": [
       "      Year  UNITID                                   INSTNM STABBR  REGION  \\\n",
       "1555  2014  163268  University of Maryland-Baltimore County     MD     2.0   \n",
       "1629  2015  163268  University of Maryland-Baltimore County     MD     2.0   \n",
       "1779  2016  163268  University of Maryland-Baltimore County     MD     2.0   \n",
       "1767  2017  163268  University of Maryland-Baltimore County     MD     2.0   \n",
       "1710  2018  163268  University of Maryland-Baltimore County     MD     2.0   \n",
       "\n",
       "      ADM_RATE  TUITIONFEE_IN  \n",
       "1555    0.5942        11006.0  \n",
       "1629    0.6315        10068.0  \n",
       "1779    0.6895         8708.0  \n",
       "1767    0.7174         8780.0  \n",
       "1710    0.6589         9171.0  "
      ]
     },
     "execution_count": 13,
     "metadata": {},
     "output_type": "execute_result"
    }
   ],
   "source": [
    "UMBC_df.tail(5) "
   ]
  },
  {
   "cell_type": "code",
   "execution_count": 14,
   "metadata": {},
   "outputs": [
    {
     "data": {
      "text/html": [
       "<div>\n",
       "<style scoped>\n",
       "    .dataframe tbody tr th:only-of-type {\n",
       "        vertical-align: middle;\n",
       "    }\n",
       "\n",
       "    .dataframe tbody tr th {\n",
       "        vertical-align: top;\n",
       "    }\n",
       "\n",
       "    .dataframe thead th {\n",
       "        text-align: right;\n",
       "    }\n",
       "</style>\n",
       "<table border=\"1\" class=\"dataframe\">\n",
       "  <thead>\n",
       "    <tr style=\"text-align: right;\">\n",
       "      <th></th>\n",
       "      <th>Year</th>\n",
       "      <th>UNITID</th>\n",
       "      <th>INSTNM</th>\n",
       "      <th>STABBR</th>\n",
       "      <th>REGION</th>\n",
       "      <th>ADM_RATE</th>\n",
       "      <th>TUITIONFEE_IN</th>\n",
       "    </tr>\n",
       "  </thead>\n",
       "  <tbody>\n",
       "    <tr>\n",
       "      <th>1779</th>\n",
       "      <td>2016</td>\n",
       "      <td>163268</td>\n",
       "      <td>University of Maryland-Baltimore County</td>\n",
       "      <td>MD</td>\n",
       "      <td>2.0</td>\n",
       "      <td>0.6895</td>\n",
       "      <td>8708.0</td>\n",
       "    </tr>\n",
       "    <tr>\n",
       "      <th>1694</th>\n",
       "      <td>1996</td>\n",
       "      <td>163268</td>\n",
       "      <td>University of Maryland-Baltimore County</td>\n",
       "      <td>MD</td>\n",
       "      <td>2.0</td>\n",
       "      <td>0.6081</td>\n",
       "      <td>9467.0</td>\n",
       "    </tr>\n",
       "    <tr>\n",
       "      <th>1767</th>\n",
       "      <td>2017</td>\n",
       "      <td>163268</td>\n",
       "      <td>University of Maryland-Baltimore County</td>\n",
       "      <td>MD</td>\n",
       "      <td>2.0</td>\n",
       "      <td>0.7174</td>\n",
       "      <td>8780.0</td>\n",
       "    </tr>\n",
       "    <tr>\n",
       "      <th>1660</th>\n",
       "      <td>2002</td>\n",
       "      <td>163268</td>\n",
       "      <td>University of Maryland-Baltimore County</td>\n",
       "      <td>MD</td>\n",
       "      <td>2.0</td>\n",
       "      <td>0.6035</td>\n",
       "      <td>9764.0</td>\n",
       "    </tr>\n",
       "    <tr>\n",
       "      <th>2049</th>\n",
       "      <td>2010</td>\n",
       "      <td>163268</td>\n",
       "      <td>University of Maryland-Baltimore County</td>\n",
       "      <td>MD</td>\n",
       "      <td>2.0</td>\n",
       "      <td>NaN</td>\n",
       "      <td>NaN</td>\n",
       "    </tr>\n",
       "  </tbody>\n",
       "</table>\n",
       "</div>"
      ],
      "text/plain": [
       "      Year  UNITID                                   INSTNM STABBR  REGION  \\\n",
       "1779  2016  163268  University of Maryland-Baltimore County     MD     2.0   \n",
       "1694  1996  163268  University of Maryland-Baltimore County     MD     2.0   \n",
       "1767  2017  163268  University of Maryland-Baltimore County     MD     2.0   \n",
       "1660  2002  163268  University of Maryland-Baltimore County     MD     2.0   \n",
       "2049  2010  163268  University of Maryland-Baltimore County     MD     2.0   \n",
       "\n",
       "      ADM_RATE  TUITIONFEE_IN  \n",
       "1779    0.6895         8708.0  \n",
       "1694    0.6081         9467.0  \n",
       "1767    0.7174         8780.0  \n",
       "1660    0.6035         9764.0  \n",
       "2049       NaN            NaN  "
      ]
     },
     "execution_count": 14,
     "metadata": {},
     "output_type": "execute_result"
    }
   ],
   "source": [
    "UMBC_df.sample(n = 5, random_state = 2) "
   ]
  },
  {
   "cell_type": "code",
   "execution_count": 15,
   "metadata": {},
   "outputs": [
    {
     "data": {
      "text/plain": [
       "<matplotlib.axes._subplots.AxesSubplot at 0x7f9848321a30>"
      ]
     },
     "execution_count": 15,
     "metadata": {},
     "output_type": "execute_result"
    },
    {
     "data": {
      "image/png": "[encoded data removed]",
      "text/plain": [
       "<Figure size 432x288 with 1 Axes>"
      ]
     },
     "metadata": {
      "needs_background": "light"
     },
     "output_type": "display_data"
    }
   ],
   "source": [
    "# <9> \n",
    "# Plot UMBC's in-state tution overtime from 1996 to 2019 using Bar Chart\n",
    "\n",
    "#(Write code here)\n",
    "UMBC_df.plot(x ='Year', y='TUITIONFEE_IN', kind = 'bar')"
   ]
  },
  {
   "cell_type": "code",
   "execution_count": 16,
   "metadata": {},
   "outputs": [
    {
     "data": {
      "text/plain": [
       "<matplotlib.axes._subplots.AxesSubplot at 0x7f9ba71c0a00>"
      ]
     },
     "execution_count": 16,
     "metadata": {},
     "output_type": "execute_result"
    },
    {
     "data": {
      "image/png": "[encoded data removed]",
      "text/plain": [
       "<Figure size 432x288 with 1 Axes>"
      ]
     },
     "metadata": {
      "needs_background": "light"
     },
     "output_type": "display_data"
    }
   ],
   "source": [
    "# <10> \n",
    "# Plot UMBC's in-state tution overtime from 1996 to 2019 using Line Chart\n",
    "\n",
    "#(Write code here)\n",
    "UMBC_df.plot(x ='Year', y='TUITIONFEE_IN', kind = 'line')"
   ]
  },
  {
   "cell_type": "code",
   "execution_count": 17,
   "metadata": {},
   "outputs": [
    {
     "name": "stdout",
     "output_type": "stream",
     "text": [
      "TuitionFee_IN_list:  [9467.0, nan, 8622.0, 10384.0, 7388.0, nan, 9764.0, 8520.0, 8872.0, 11778.0, 11518.0, 5490.0, 5910.0, 11264.0, nan, nan, 8020.0, 6362.0, 11006.0, 10068.0, 8708.0, 8780.0, 9171.0]\n"
     ]
    }
   ],
   "source": [
    "# Now let's look at the tuition growth rate year over year\n",
    "# We need to calculate UMBC tuition change percentage each year\n",
    "# First convert the TUITIONFEE_IN column to a Python List\n",
    "\n",
    "#(Write code here)\n",
    "TuitionFee_IN_list = UMBC_df['TUITIONFEE_IN'].to_list()\n",
    "print('TuitionFee_IN_list: ', TuitionFee_IN_list)"
   ]
  },
  {
   "cell_type": "code",
   "execution_count": 36,
   "metadata": {},
   "outputs": [
    {
     "name": "stdout",
     "output_type": "stream",
     "text": [
      "1694          NaN\n",
      "1955     0.000000\n",
      "1799    -8.925742\n",
      "1610    20.436094\n",
      "1873   -28.852080\n",
      "2151     0.000000\n",
      "1660    32.160260\n",
      "1819   -12.740680\n",
      "1745     4.131455\n",
      "1415    32.754734\n",
      "1478    -2.207506\n",
      "1926   -52.335475\n",
      "1915     7.650273\n",
      "1510    90.592217\n",
      "2049     0.000000\n",
      "1982     0.000000\n",
      "1830   -28.799716\n",
      "1893   -20.673317\n",
      "1555    72.995913\n",
      "1629    -8.522624\n",
      "1779   -13.508145\n",
      "1767     0.826826\n",
      "1710     4.453303\n",
      "Name: TUITIONFEE_IN, dtype: float64\n"
     ]
    }
   ],
   "source": [
    "# Loop through the list and calculate the % change each year over the prior year\n",
    "# This takes some effort. Not hard, just some abstract/logical thinking and some experiments\n",
    "# Have fun on this one\n",
    "#(Write code here)\n",
    "UMBC_tuitiondf = UMBC_df['TUITIONFEE_IN']\n",
    "\n",
    "percent_change = UMBC_tuitiondf.pct_change(periods=1, fill_method='pad', axis=0)*100\n",
    "print(percent_change)"
   ]
  },
  {
   "cell_type": "code",
   "execution_count": 48,
   "metadata": {},
   "outputs": [
    {
     "name": "stdout",
     "output_type": "stream",
     "text": [
      "[20, -29, 0, 32, -13, 4, 33, -2, -52, 8, 91, 0, 0, -29, -21, 73, -9, -14, 1, 4]\n"
     ]
    }
   ],
   "source": [
    "# The resulting number has many decimal points which are unnecessary and not visually appealing.\n",
    "# Round up the percentage to two decimal points\n",
    "# You can use for loop. Or better, use list comprehension for simplicity/brevity\n",
    "\n",
    "#(Write code here)\n",
    "\n",
    "percent_change = [round(x) for x in percent_change[0:]]\n",
    "print(percent_change)"
   ]
  },
  {
   "cell_type": "code",
   "execution_count": 110,
   "metadata": {},
   "outputs": [
    {
     "name": "stdout",
     "output_type": "stream",
     "text": [
      "      Year  UNITID                                   INSTNM STABBR  REGION  \\\n",
      "1694  1996  163268  University of Maryland-Baltimore County     MD     2.0   \n",
      "1955  1997  163268  University of Maryland-Baltimore County     MD     2.0   \n",
      "1799  1998  163268  University of Maryland-Baltimore County     MD     2.0   \n",
      "1610  1999  163268  University of Maryland-Baltimore County     MD     2.0   \n",
      "1873  2000  163268  University of Maryland-Baltimore County     MD     2.0   \n",
      "2151  2001  163268  University of Maryland-Baltimore County     MD     2.0   \n",
      "1660  2002  163268  University of Maryland-Baltimore County     MD     2.0   \n",
      "1819  2003  163268  University of Maryland-Baltimore County     MD     2.0   \n",
      "1745  2004  163268  University of Maryland-Baltimore County     MD     2.0   \n",
      "1415  2005  163268  University of Maryland-Baltimore County     MD     2.0   \n",
      "1478  2006  163268  University of Maryland-Baltimore County     MD     2.0   \n",
      "1926  2007  163268  University of Maryland-Baltimore County     MD     2.0   \n",
      "1915  2008  163268  University of Maryland-Baltimore County     MD     2.0   \n",
      "1510  2009  163268  University of Maryland-Baltimore County     MD     2.0   \n",
      "2049  2010  163268  University of Maryland-Baltimore County     MD     2.0   \n",
      "1982  2011  163268  University of Maryland-Baltimore County     MD     2.0   \n",
      "1830  2012  163268  University of Maryland-Baltimore County     MD     2.0   \n",
      "1893  2013  163268  University of Maryland-Baltimore County     MD     2.0   \n",
      "1555  2014  163268  University of Maryland-Baltimore County     MD     2.0   \n",
      "1629  2015  163268  University of Maryland-Baltimore County     MD     2.0   \n",
      "1779  2016  163268  University of Maryland-Baltimore County     MD     2.0   \n",
      "1767  2017  163268  University of Maryland-Baltimore County     MD     2.0   \n",
      "1710  2018  163268  University of Maryland-Baltimore County     MD     2.0   \n",
      "\n",
      "      ADM_RATE  TUITIONFEE_IN  UMBC_PCT  \n",
      "1694    0.6081         9467.0         0  \n",
      "1955       NaN            NaN         0  \n",
      "1799    0.7153         8622.0         0  \n",
      "1610    0.5961        10384.0        20  \n",
      "1873    0.5757         7388.0       -29  \n",
      "2151       NaN            NaN         0  \n",
      "1660    0.6035         9764.0        32  \n",
      "1819    0.7143         8520.0       -13  \n",
      "1745    0.6890         8872.0         4  \n",
      "1415    0.5794        11778.0        33  \n",
      "1478    0.6021        11518.0        -2  \n",
      "1926       NaN         5490.0       -52  \n",
      "1915    0.6551         5910.0         8  \n",
      "1510    0.5683        11264.0        91  \n",
      "2049       NaN            NaN         0  \n",
      "1982       NaN            NaN         0  \n",
      "1830    0.7014         8020.0       -29  \n",
      "1893    0.6327         6362.0       -21  \n",
      "1555    0.5942        11006.0        73  \n",
      "1629    0.6315        10068.0        -9  \n",
      "1779    0.6895         8708.0       -14  \n",
      "1767    0.7174         8780.0         1  \n",
      "1710    0.6589         9171.0         4  \n"
     ]
    }
   ],
   "source": [
    "# Add the list of the percentages to the dataframe as a new column (\"PCT_CHANGE\")\n",
    "# Not as hard as you may think. If you get stuck, you think too hard. \n",
    "# Google it and you will find the answer.\n",
    "\n",
    "#(Write code here)\n",
    "\n",
    "UMBC_df.insert(7, \"UMBC_PCT\", [0,0,0, 20, -29, 0, 32, -13, 4, 33, -2, -52, 8, 91, 0, 0, -29, -21, 73, -9, -14, 1, 4], True) \n",
    "\n",
    "\n",
    "print(UMBC_df)"
   ]
  },
  {
   "cell_type": "code",
   "execution_count": 111,
   "metadata": {},
   "outputs": [
    {
     "data": {
      "text/plain": [
       "<matplotlib.axes._subplots.AxesSubplot at 0x7f968f1bbf40>"
      ]
     },
     "execution_count": 111,
     "metadata": {},
     "output_type": "execute_result"
    },
    {
     "data": {
      "image/png": "[encoded data removed]",
      "text/plain": [
       "<Figure size 432x288 with 1 Axes>"
      ]
     },
     "metadata": {
      "needs_background": "light"
     },
     "output_type": "display_data"
    },
    {
     "data": {
      "image/png": "[encoded data removed]",
      "text/plain": [
       "<Figure size 432x288 with 1 Axes>"
      ]
     },
     "metadata": {
      "needs_background": "light"
     },
     "output_type": "display_data"
    }
   ],
   "source": [
    "# Finaly, we can make the plot tuition growth rate year over year - bar first, then line chart\n",
    "\n",
    "# (write code here)\n",
    "UMBC_df.plot(x ='Year', y='UMBC_PCT', kind = 'bar')\n",
    "UMBC_df.plot(x ='Year', y='UMBC_PCT', kind = 'line')"
   ]
  },
  {
   "cell_type": "code",
   "execution_count": 112,
   "metadata": {},
   "outputs": [],
   "source": [
    "# <12>\n",
    "# Since we want to do the same calculation for JHU. \n",
    "# Instead of doing it piecemeal as we did for UMBC\n",
    "# Let's create a function which can be reused for any college.\n",
    "# This function takes a list of tuitions and return a list of percentage changes year over year\n",
    "# This function can be used later \n",
    "\n",
    "#(Write code here)\n",
    "\n",
    "def PCT_CHANGEFUNC():\n",
    "    UNIVERSITY=[]\n",
    "    UNIVERSITY_df = small_df.loc[df['INSTNM'] == 'UNIVERSITY']\n",
    "    UNIVERSITY_df.insert(0, \"Year\", [1996,1997, 1998, 1999, 2000, 2001, 2002, 2003, 2004, 2005, 2006, 2007, 2008, 2009, 2010, 2011, 2012, 2013, 2014, 2015, 2016, 2017, 2018], True)\n",
    "    TuitionFee_IN_list = UNIVERSITY_df['TUITIONFEE_IN'].to_list()\n",
    "    UNIVERSITY_tuitiondf = UNIVERSITY_df['TUITIONFEE_IN']\n",
    "    percent_change = UNIVERSITY_tuitiondf.pct_change(periods=1, fill_method='pad', axis=0)*100\n",
    "    \n"
   ]
  },
  {
   "cell_type": "code",
   "execution_count": 70,
   "metadata": {},
   "outputs": [
    {
     "name": "stdout",
     "output_type": "stream",
     "text": [
      "      Year  UNITID                    INSTNM STABBR  REGION  ADM_RATE  \\\n",
      "1687  1996  162928  Johns Hopkins University     MD     2.0    0.1940   \n",
      "1946  1997  162928  Johns Hopkins University     MD     2.0       NaN   \n",
      "1792  1998  162928  Johns Hopkins University     MD     2.0    0.2792   \n",
      "1603  1999  162928  Johns Hopkins University     MD     2.0    0.1608   \n",
      "1865  2000  162928  Johns Hopkins University     MD     2.0    0.3060   \n",
      "2139  2001  162928  Johns Hopkins University     MD     2.0       NaN   \n",
      "1653  2002  162928  Johns Hopkins University     MD     2.0    0.1843   \n",
      "1812  2003  162928  Johns Hopkins University     MD     2.0    0.3509   \n",
      "1738  2004  162928  Johns Hopkins University     MD     2.0    0.2782   \n",
      "1410  2005  162928  Johns Hopkins University     MD     2.0    0.1148   \n",
      "1473  2006  162928  Johns Hopkins University     MD     2.0    0.1254   \n",
      "1917  2007  162928  Johns Hopkins University     MD     2.0       NaN   \n",
      "1906  2008  162928  Johns Hopkins University     MD     2.0    0.3431   \n",
      "1503  2009  162928  Johns Hopkins University     MD     2.0    0.1284   \n",
      "2039  2010  162928  Johns Hopkins University     MD     2.0       NaN   \n",
      "1973  2011  162928  Johns Hopkins University     MD     2.0       NaN   \n",
      "1823  2012  162928  Johns Hopkins University     MD     2.0    0.3071   \n",
      "1884  2013  162928  Johns Hopkins University     MD     2.0    0.3506   \n",
      "1548  2014  162928  Johns Hopkins University     MD     2.0    0.1412   \n",
      "1622  2015  162928  Johns Hopkins University     MD     2.0    0.1813   \n",
      "1772  2016  162928  Johns Hopkins University     MD     2.0    0.2571   \n",
      "1760  2017  162928  Johns Hopkins University     MD     2.0    0.2609   \n",
      "1703  2018  162928  Johns Hopkins University     MD     2.0    0.2225   \n",
      "\n",
      "      TUITIONFEE_IN  \n",
      "1687        42280.0  \n",
      "1946            NaN  \n",
      "1792        33900.0  \n",
      "1603        47060.0  \n",
      "1865        28730.0  \n",
      "2139            NaN  \n",
      "1653        43390.0  \n",
      "1812        31620.0  \n",
      "1738        39150.0  \n",
      "1410        53740.0  \n",
      "1473        52170.0  \n",
      "1917        24930.0  \n",
      "1906        26210.0  \n",
      "1503        50410.0  \n",
      "2039            NaN  \n",
      "1973            NaN  \n",
      "1823        30140.0  \n",
      "1884        27390.0  \n",
      "1548        48710.0  \n",
      "1622        45470.0  \n",
      "1772        35900.0  \n",
      "1760        37700.0  \n",
      "1703        40680.0  \n"
     ]
    }
   ],
   "source": [
    "# <13>\n",
    "# the dataframe contains many years of data of all U.S. colleges.\n",
    "# let's just look at JHU\n",
    "# filter/query the dataframe to retrieve only rows that belong to JHU\n",
    "# save the JHU data to a new data frame. using a new variable \n",
    "# so that the old big data frame is still available for later use.\n",
    "\n",
    "#(Write code here)\n",
    "select_JHU = small_df.loc[df['INSTNM'] == 'Johns Hopkins University']\n",
    "\n",
    "JHU_df = select_JHU\n",
    "\n",
    "JHU_df.insert(0, \"Year\", [1996,1997, 1998, 1999, 2000, 2001, 2002, 2003, 2004, 2005, 2006, 2007, 2008, 2009, 2010, 2011, 2012, 2013, 2014, 2015, 2016, 2017, 2018], True) \n",
    "\n",
    "print(JHU_df)"
   ]
  },
  {
   "cell_type": "code",
   "execution_count": 113,
   "metadata": {},
   "outputs": [
    {
     "data": {
      "text/plain": [
       "<matplotlib.axes._subplots.AxesSubplot at 0x7f968f532b80>"
      ]
     },
     "execution_count": 113,
     "metadata": {},
     "output_type": "execute_result"
    },
    {
     "data": {
      "image/png": "[encoded data removed]",
      "text/plain": [
       "<Figure size 432x288 with 1 Axes>"
      ]
     },
     "metadata": {
      "needs_background": "light"
     },
     "output_type": "display_data"
    }
   ],
   "source": [
    "# <14> \n",
    "# Plot JHU's in-state tuition overtime from 1996 to 2019. \n",
    "# Let's plot bar and line chart together\n",
    "\n",
    "#(Write code here)\n",
    "JHU_df.plot(x ='Year', y='TUITIONFEE_IN', kind = 'bar')"
   ]
  },
  {
   "cell_type": "code",
   "execution_count": 114,
   "metadata": {},
   "outputs": [
    {
     "name": "stdout",
     "output_type": "stream",
     "text": [
      "[0, -20, 39, -39, 0, 51, -27, 24, 37, -3, -52, 5, 92, 0, 0, -40, -9, 78, -7, -21, 5, 8]\n"
     ]
    }
   ],
   "source": [
    "# Let's calculate the JHU tuition percentge growth using the function defined earlier\n",
    "\n",
    "#(Write code here)\n",
    "TuitionFee_IN_list = JHU_df['TUITIONFEE_IN'].to_list()\n",
    "\n",
    "JHU_tuitiondf = JHU_df['TUITIONFEE_IN']\n",
    "\n",
    "percent_change = JHU_tuitiondf.pct_change(periods=1, fill_method='pad', axis=0)*100\n",
    "\n",
    "percent_change = [round(x) for x in percent_change[1:]]\n",
    "\n",
    "print(percent_change)\n",
    "\n"
   ]
  },
  {
   "cell_type": "code",
   "execution_count": 115,
   "metadata": {},
   "outputs": [
    {
     "name": "stdout",
     "output_type": "stream",
     "text": [
      "      Year  UNITID                    INSTNM STABBR  REGION  ADM_RATE  \\\n",
      "1687  1996  162928  Johns Hopkins University     MD     2.0    0.1940   \n",
      "1946  1997  162928  Johns Hopkins University     MD     2.0       NaN   \n",
      "1792  1998  162928  Johns Hopkins University     MD     2.0    0.2792   \n",
      "1603  1999  162928  Johns Hopkins University     MD     2.0    0.1608   \n",
      "1865  2000  162928  Johns Hopkins University     MD     2.0    0.3060   \n",
      "2139  2001  162928  Johns Hopkins University     MD     2.0       NaN   \n",
      "1653  2002  162928  Johns Hopkins University     MD     2.0    0.1843   \n",
      "1812  2003  162928  Johns Hopkins University     MD     2.0    0.3509   \n",
      "1738  2004  162928  Johns Hopkins University     MD     2.0    0.2782   \n",
      "1410  2005  162928  Johns Hopkins University     MD     2.0    0.1148   \n",
      "1473  2006  162928  Johns Hopkins University     MD     2.0    0.1254   \n",
      "1917  2007  162928  Johns Hopkins University     MD     2.0       NaN   \n",
      "1906  2008  162928  Johns Hopkins University     MD     2.0    0.3431   \n",
      "1503  2009  162928  Johns Hopkins University     MD     2.0    0.1284   \n",
      "2039  2010  162928  Johns Hopkins University     MD     2.0       NaN   \n",
      "1973  2011  162928  Johns Hopkins University     MD     2.0       NaN   \n",
      "1823  2012  162928  Johns Hopkins University     MD     2.0    0.3071   \n",
      "1884  2013  162928  Johns Hopkins University     MD     2.0    0.3506   \n",
      "1548  2014  162928  Johns Hopkins University     MD     2.0    0.1412   \n",
      "1622  2015  162928  Johns Hopkins University     MD     2.0    0.1813   \n",
      "1772  2016  162928  Johns Hopkins University     MD     2.0    0.2571   \n",
      "1760  2017  162928  Johns Hopkins University     MD     2.0    0.2609   \n",
      "1703  2018  162928  Johns Hopkins University     MD     2.0    0.2225   \n",
      "\n",
      "      TUITIONFEE_IN  JHU_PCT  PCT_CHANGE  \n",
      "1687        42280.0        0           0  \n",
      "1946            NaN        0           0  \n",
      "1792        33900.0      -20         -20  \n",
      "1603        47060.0       39          39  \n",
      "1865        28730.0      -39         -39  \n",
      "2139            NaN        0           0  \n",
      "1653        43390.0       51          51  \n",
      "1812        31620.0      -27         -27  \n",
      "1738        39150.0       24          24  \n",
      "1410        53740.0       37          37  \n",
      "1473        52170.0       -3          -3  \n",
      "1917        24930.0      -52         -52  \n",
      "1906        26210.0        5           5  \n",
      "1503        50410.0       92          92  \n",
      "2039            NaN        0           0  \n",
      "1973            NaN        0           0  \n",
      "1823        30140.0      -40         -40  \n",
      "1884        27390.0       -9          -9  \n",
      "1548        48710.0       78          78  \n",
      "1622        45470.0       -7          -7  \n",
      "1772        35900.0      -21         -21  \n",
      "1760        37700.0        5           5  \n",
      "1703        40680.0        8           8  \n"
     ]
    }
   ],
   "source": [
    "# <16>\n",
    "# Add the list of percentage changes to the dataframe as a new column (\"PCT_CHANGE\")\n",
    "\n",
    "#(Write code here)\n",
    "JHU_df.insert(7, \"JHU_PCT\", [0,0, -20, 39, -39, 0, 51, -27, 24, 37, -3, -52, 5, 92, 0, 0, -40, -9, 78, -7, -21, 5, 8], True) \n",
    "\n",
    "print(JHU_df)"
   ]
  },
  {
   "cell_type": "code",
   "execution_count": 116,
   "metadata": {},
   "outputs": [
    {
     "data": {
      "text/plain": [
       "<matplotlib.axes._subplots.AxesSubplot at 0x7f968f3b68b0>"
      ]
     },
     "execution_count": 116,
     "metadata": {},
     "output_type": "execute_result"
    },
    {
     "data": {
      "image/png": "[encoded data removed]",
      "text/plain": [
       "<Figure size 432x288 with 1 Axes>"
      ]
     },
     "metadata": {
      "needs_background": "light"
     },
     "output_type": "display_data"
    }
   ],
   "source": [
    "\n",
    "# <17> Make a bar plot of the JHU percentage changes tuitions over time\n",
    "\n",
    "#(Write code here)\n",
    "JHU_df.plot(x ='Year', y='JHU_PCT', kind = 'bar')\n"
   ]
  },
  {
   "cell_type": "code",
   "execution_count": 121,
   "metadata": {},
   "outputs": [
    {
     "name": "stdout",
     "output_type": "stream",
     "text": [
      "      Year  UMBC_PCT\n",
      "1694  1996         0\n",
      "1955  1997         0\n",
      "1799  1998         0\n",
      "1610  1999        20\n",
      "1873  2000       -29\n",
      "2151  2001         0\n",
      "1660  2002        32\n",
      "1819  2003       -13\n",
      "1745  2004         4\n",
      "1415  2005        33\n",
      "1478  2006        -2\n",
      "1926  2007       -52\n",
      "1915  2008         8\n",
      "1510  2009        91\n",
      "2049  2010         0\n",
      "1982  2011         0\n",
      "1830  2012       -29\n",
      "1893  2013       -21\n",
      "1555  2014        73\n",
      "1629  2015        -9\n",
      "1779  2016       -14\n",
      "1767  2017         1\n",
      "1710  2018         4\n"
     ]
    }
   ],
   "source": [
    "\n",
    "# <18>\n",
    "# In order to plot both UMBC and JHU tuition change over time in the same plot,\n",
    "# we need to combine the two datasets using the common key of YEAR \n",
    "# First make a umbc2 dataframe with only two columns needed. WE don't need other columns.\n",
    "# Also change the column name from \"PCT_CHANGE\" to \"UMBC_PCT\" in preparation for the merge.\n",
    "# This is because both umbc and jhu dataframe have the same column name \"PCT_CHANGE\",\n",
    "# We rename them to there is no collision during the merge. BTW, Pandas handles collision gracefully,\n",
    "# Feel free to try it without changing the column names.\n",
    "\n",
    "#(Write code here)\n",
    "UMBC2_df = UMBC_df[[\"Year\", \"UMBC_PCT\"]]\n",
    "print(UMBC2_df)"
   ]
  },
  {
   "cell_type": "code",
   "execution_count": 123,
   "metadata": {},
   "outputs": [
    {
     "name": "stdout",
     "output_type": "stream",
     "text": [
      "      Year  JHU_PCT\n",
      "1687  1996        0\n",
      "1946  1997        0\n",
      "1792  1998      -20\n",
      "1603  1999       39\n",
      "1865  2000      -39\n",
      "2139  2001        0\n",
      "1653  2002       51\n",
      "1812  2003      -27\n",
      "1738  2004       24\n",
      "1410  2005       37\n",
      "1473  2006       -3\n",
      "1917  2007      -52\n",
      "1906  2008        5\n",
      "1503  2009       92\n",
      "2039  2010        0\n",
      "1973  2011        0\n",
      "1823  2012      -40\n",
      "1884  2013       -9\n",
      "1548  2014       78\n",
      "1622  2015       -7\n",
      "1772  2016      -21\n",
      "1760  2017        5\n",
      "1703  2018        8\n"
     ]
    }
   ],
   "source": [
    "# Then make a jhu2 dataframe with only two columns needed. WE don't need other columns.\n",
    "# Also change the column name from \"PCT_CHANGE\" to \"JHU_PCT\"  in preparation for the merge\n",
    "\n",
    "#(Write code here)\n",
    "JHU2_df = JHU_df[[\"Year\", \"JHU_PCT\"]]\n",
    "print(JHU2_df)"
   ]
  },
  {
   "cell_type": "code",
   "execution_count": 131,
   "metadata": {},
   "outputs": [
    {
     "name": "stdout",
     "output_type": "stream",
     "text": [
      "      Year  UMBC_PCT  JHU_PCT\n",
      "1694  1996       0.0      NaN\n",
      "1955  1997       0.0      NaN\n",
      "1799  1998       0.0      NaN\n",
      "1610  1999      20.0      NaN\n",
      "1873  2000     -29.0      NaN\n",
      "2151  2001       0.0      NaN\n",
      "1660  2002      32.0      NaN\n",
      "1819  2003     -13.0      NaN\n",
      "1745  2004       4.0      NaN\n",
      "1415  2005      33.0      NaN\n",
      "1478  2006      -2.0      NaN\n",
      "1926  2007     -52.0      NaN\n",
      "1915  2008       8.0      NaN\n",
      "1510  2009      91.0      NaN\n",
      "2049  2010       0.0      NaN\n",
      "1982  2011       0.0      NaN\n",
      "1830  2012     -29.0      NaN\n",
      "1893  2013     -21.0      NaN\n",
      "1555  2014      73.0      NaN\n",
      "1629  2015      -9.0      NaN\n",
      "1779  2016     -14.0      NaN\n",
      "1767  2017       1.0      NaN\n",
      "1710  2018       4.0      NaN\n",
      "1687  1996       NaN      0.0\n",
      "1946  1997       NaN      0.0\n",
      "1792  1998       NaN    -20.0\n",
      "1603  1999       NaN     39.0\n",
      "1865  2000       NaN    -39.0\n",
      "2139  2001       NaN      0.0\n",
      "1653  2002       NaN     51.0\n",
      "1812  2003       NaN    -27.0\n",
      "1738  2004       NaN     24.0\n",
      "1410  2005       NaN     37.0\n",
      "1473  2006       NaN     -3.0\n",
      "1917  2007       NaN    -52.0\n",
      "1906  2008       NaN      5.0\n",
      "1503  2009       NaN     92.0\n",
      "2039  2010       NaN      0.0\n",
      "1973  2011       NaN      0.0\n",
      "1823  2012       NaN    -40.0\n",
      "1884  2013       NaN     -9.0\n",
      "1548  2014       NaN     78.0\n",
      "1622  2015       NaN     -7.0\n",
      "1772  2016       NaN    -21.0\n",
      "1760  2017       NaN      5.0\n",
      "1703  2018       NaN      8.0\n"
     ]
    }
   ],
   "source": [
    "\n",
    "# Now, merger the two data frames\n",
    "# and display the new dataframe\n",
    "\n",
    "#(Write code here)\n",
    "Both= [UMBC2_df, JHU2_df]\n",
    "result_df = pd.concat(Both)\n",
    "print(result_df)\n"
   ]
  },
  {
   "cell_type": "code",
   "execution_count": 132,
   "metadata": {},
   "outputs": [
    {
     "data": {
      "text/plain": [
       "<matplotlib.axes._subplots.AxesSubplot at 0x7f968f4bbe20>"
      ]
     },
     "execution_count": 132,
     "metadata": {},
     "output_type": "execute_result"
    },
    {
     "data": {
      "image/png": "[encoded data removed]",
      "text/plain": [
       "<Figure size 432x288 with 1 Axes>"
      ]
     },
     "metadata": {
      "needs_background": "light"
     },
     "output_type": "display_data"
    }
   ],
   "source": [
    "# Plot UMBC and JHU separately on the same plot \n",
    "# However, this does not work since the bars overlap.\n",
    "# Plot them together using y=[\"UMBC_PCT\",\"JHU_PCT\"] option of bar plot\n",
    "\n",
    "#(Write code here)\n",
    "result_df.plot(x ='Year', y=[\"UMBC_PCT\",\"JHU_PCT\"], kind = 'bar')"
   ]
  },
  {
   "cell_type": "code",
   "execution_count": 133,
   "metadata": {},
   "outputs": [
    {
     "data": {
      "text/plain": [
       "<matplotlib.axes._subplots.AxesSubplot at 0x7f968f922610>"
      ]
     },
     "execution_count": 133,
     "metadata": {},
     "output_type": "execute_result"
    },
    {
     "data": {
      "image/png": "[encoded data removed]",
      "text/plain": [
       "<Figure size 432x288 with 1 Axes>"
      ]
     },
     "metadata": {
      "needs_background": "light"
     },
     "output_type": "display_data"
    }
   ],
   "source": [
    "# Plot them together using y=[\"UMBC_PCT\",\"JHU_PCT\"] option of line plot\n",
    "\n",
    "#(Write code here)\n",
    "result_df.plot(x ='Year', y=[\"UMBC_PCT\",\"JHU_PCT\"], kind = 'line')"
   ]
  },
  {
   "cell_type": "code",
   "execution_count": null,
   "metadata": {},
   "outputs": [],
   "source": [
    "\n",
    "# <19> \n",
    "# document your observation/conclusion of the comparison plots (bar/line)\n",
    "# use the following Markdown cell\n",
    "# UMBC and JHU follow a similar pattern in the percent change of tuition over time. \n",
    "# JHU has much sharper peaks \n",
    "# The percent change in Tuition has been much greater year to year after 2005 and was much more gradual before 2005. "
   ]
  }
 ],
 "metadata": {
  "kernelspec": {
   "display_name": "Python 3",
   "language": "python",
   "name": "python3"
  },
  "language_info": {
   "codemirror_mode": {
    "name": "ipython",
    "version": 3
   },
   "file_extension": ".py",
   "mimetype": "text/x-python",
   "name": "python",
   "nbconvert_exporter": "python",
   "pygments_lexer": "ipython3",
   "version": "3.8.3"
  }
 },
 "nbformat": 4,
 "nbformat_minor": 4
}
