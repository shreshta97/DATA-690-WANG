{
  "nbformat": 4,
  "nbformat_minor": 0,
  "metadata": {
    "colab": {
      "name": "Assignment_04_census_cost.ipynb",
      "provenance": [],
      "authorship_tag": "ABX9TyMb/Mc9JMYtrW52vTs3qSsv",
      "include_colab_link": true
    },
    "kernelspec": {
      "name": "python3",
      "display_name": "Python 3"
    }
  },
  "cells": [
    {
      "cell_type": "markdown",
      "metadata": {
        "id": "view-in-github",
        "colab_type": "text"
      },
      "source": [
        "<a href=\"https://colab.research.google.com/github/shreshta97/DATA-690-WANG/blob/master/Assignment_04/Assignment_04_census_cost.ipynb\" target=\"_parent\"><img src=\"https://colab.research.google.com/assets/colab-badge.svg\" alt=\"Open In Colab\"/></a>"
      ]
    },
    {
      "cell_type": "markdown",
      "metadata": {
        "id": "Y9vtfd-GqdA-",
        "colab_type": "text"
      },
      "source": [
        "1. Write code to open the text file census_cost.txt and read all lines into a list named \"line_list\". Print line_list."
      ]
    },
    {
      "cell_type": "code",
      "metadata": {
        "id": "bC4njIiMqHJ_",
        "colab_type": "code",
        "colab": {}
      },
      "source": [
        "# open and read the file\n",
        "with open(\"census_cost.txt\", \"rt\") as f: \n",
        "  line_list = f.readlines()\n",
        "\n"
      ],
      "execution_count": 59,
      "outputs": []
    },
    {
      "cell_type": "code",
      "metadata": {
        "id": "IWvBO6OBqxt9",
        "colab_type": "code",
        "colab": {
          "base_uri": "https://localhost:8080/",
          "height": 442
        },
        "outputId": "e4785c29-d665-4578-c2e3-0386d74c7c85"
      },
      "source": [
        "# Print line list look a bit messy \n",
        "line_list"
      ],
      "execution_count": 60,
      "outputs": [
        {
          "output_type": "execute_result",
          "data": {
            "text/plain": [
              "['Source: https://www.genealogybranches.com/censuscosts.html\\n',\n",
              " 'Census Year\\tTotal Population\\tCensus Cost\\tAverage Cost Per Person\\n',\n",
              " '1790\\t3,929,214\\t$44,377\\t1.13 cents\\n',\n",
              " '1800\\t5,308,483\\t$66,109\\t1.24 cents\\n',\n",
              " '1810\\t7,239,881\\t$178,445\\t2.46 cents\\n',\n",
              " '1820\\t9,633,822\\t$208,526\\t2.16 cents\\n',\n",
              " '1830\\t12,866,020\\t$378,545\\t2.94 cents\\n',\n",
              " '1840\\t17,069,458\\t$833,371\\t4.88 cents\\n',\n",
              " '1850\\t23,191,876\\t$1,423,351\\t6.14 cents\\n',\n",
              " '1860\\t31,443,321\\t$1,969,377\\t6.26 cents\\n',\n",
              " '1870\\t38,558,371\\t$3,421,198\\t8.87 cents\\n',\n",
              " '1880\\t50,155,783\\t$5,790,678\\t11.54 cents\\n',\n",
              " '1890\\t62,979,766\\t$11,547,127\\t18.33 cents\\n',\n",
              " '1900\\t76,303,387\\t$11,854,000\\t15.54 cents\\n',\n",
              " '1910\\t91,972,266\\t$15,968,000\\t17.07 cents\\n',\n",
              " '1920\\t105,710,620\\t$25,117,000\\t23.76 cents\\n',\n",
              " '1930\\t122,775,046\\t$40,156,000\\t32.71 cents\\n',\n",
              " '1940\\t131,669,275\\t$67,527,000\\t51.29 cents\\n',\n",
              " '1950\\t151,325,798\\t$91,462,000\\t60.44 cents\\n',\n",
              " '1960\\t179,323,175\\t$127,934,000\\t71.34 cents\\n',\n",
              " '1970\\t203,302,031\\t$247,653,000\\t$1.22\\n',\n",
              " '1980\\t226,542,199\\t$1,078,488,000\\t$4.76\\n',\n",
              " '1990\\t248,718,301\\t$2,492,830,000\\t$10.02\\n',\n",
              " '2000\\t281,421,906\\t$4.5Billion\\t$15.99\\n',\n",
              " '2010*\\t308,745,538\\t$13Billion\\t$42.11']"
            ]
          },
          "metadata": {
            "tags": []
          },
          "execution_count": 60
        }
      ]
    },
    {
      "cell_type": "code",
      "metadata": {
        "id": "UcmYGG_gqzkV",
        "colab_type": "code",
        "colab": {
          "base_uri": "https://localhost:8080/",
          "height": 850
        },
        "outputId": "195356e3-cee9-4a5c-ee57-f3bd1072d533"
      },
      "source": [
        "# print one line at a time using a loop\n",
        "for row in line_list: \n",
        "  print(row)"
      ],
      "execution_count": 61,
      "outputs": [
        {
          "output_type": "stream",
          "text": [
            "Source: https://www.genealogybranches.com/censuscosts.html\n",
            "\n",
            "Census Year\tTotal Population\tCensus Cost\tAverage Cost Per Person\n",
            "\n",
            "1790\t3,929,214\t$44,377\t1.13 cents\n",
            "\n",
            "1800\t5,308,483\t$66,109\t1.24 cents\n",
            "\n",
            "1810\t7,239,881\t$178,445\t2.46 cents\n",
            "\n",
            "1820\t9,633,822\t$208,526\t2.16 cents\n",
            "\n",
            "1830\t12,866,020\t$378,545\t2.94 cents\n",
            "\n",
            "1840\t17,069,458\t$833,371\t4.88 cents\n",
            "\n",
            "1850\t23,191,876\t$1,423,351\t6.14 cents\n",
            "\n",
            "1860\t31,443,321\t$1,969,377\t6.26 cents\n",
            "\n",
            "1870\t38,558,371\t$3,421,198\t8.87 cents\n",
            "\n",
            "1880\t50,155,783\t$5,790,678\t11.54 cents\n",
            "\n",
            "1890\t62,979,766\t$11,547,127\t18.33 cents\n",
            "\n",
            "1900\t76,303,387\t$11,854,000\t15.54 cents\n",
            "\n",
            "1910\t91,972,266\t$15,968,000\t17.07 cents\n",
            "\n",
            "1920\t105,710,620\t$25,117,000\t23.76 cents\n",
            "\n",
            "1930\t122,775,046\t$40,156,000\t32.71 cents\n",
            "\n",
            "1940\t131,669,275\t$67,527,000\t51.29 cents\n",
            "\n",
            "1950\t151,325,798\t$91,462,000\t60.44 cents\n",
            "\n",
            "1960\t179,323,175\t$127,934,000\t71.34 cents\n",
            "\n",
            "1970\t203,302,031\t$247,653,000\t$1.22\n",
            "\n",
            "1980\t226,542,199\t$1,078,488,000\t$4.76\n",
            "\n",
            "1990\t248,718,301\t$2,492,830,000\t$10.02\n",
            "\n",
            "2000\t281,421,906\t$4.5Billion\t$15.99\n",
            "\n",
            "2010*\t308,745,538\t$13Billion\t$42.11\n"
          ],
          "name": "stdout"
        }
      ]
    },
    {
      "cell_type": "markdown",
      "metadata": {
        "id": "1zosKnHFrEYm",
        "colab_type": "text"
      },
      "source": [
        "\n",
        "2. Extract the first two lines and put them in a different list named \"top2_list\". You will need to use them later. Print the top2_list."
      ]
    },
    {
      "cell_type": "code",
      "metadata": {
        "id": "ugBsRBg0rFaC",
        "colab_type": "code",
        "colab": {
          "base_uri": "https://localhost:8080/",
          "height": 51
        },
        "outputId": "a4e5354c-32a0-4dba-a245-d7b3d83bf224"
      },
      "source": [
        "# print top2_list using an index assignement \n",
        "top2_list = line_list[:2]\n",
        "top2_list"
      ],
      "execution_count": 62,
      "outputs": [
        {
          "output_type": "execute_result",
          "data": {
            "text/plain": [
              "['Source: https://www.genealogybranches.com/censuscosts.html\\n',\n",
              " 'Census Year\\tTotal Population\\tCensus Cost\\tAverage Cost Per Person\\n']"
            ]
          },
          "metadata": {
            "tags": []
          },
          "execution_count": 62
        }
      ]
    },
    {
      "cell_type": "markdown",
      "metadata": {
        "id": "iKS75tkEsNMB",
        "colab_type": "text"
      },
      "source": [
        "3. Put the rest of the lines (containing useful data elements) in a new list named \"data_list\". Print data_list."
      ]
    },
    {
      "cell_type": "code",
      "metadata": {
        "id": "kMBiRmpheITo",
        "colab_type": "code",
        "colab": {}
      },
      "source": [
        "# extract data list from row 2 line list onwards using indexnig \n",
        "data_list = line_list[2:]"
      ],
      "execution_count": 63,
      "outputs": []
    },
    {
      "cell_type": "code",
      "metadata": {
        "id": "N7rY83aTvo9T",
        "colab_type": "code",
        "colab": {
          "base_uri": "https://localhost:8080/",
          "height": 782
        },
        "outputId": "1021e256-47af-4ee9-d573-5e8685925e04"
      },
      "source": [
        "# print one line at a time to check how data_list looks \n",
        "for data in data_list: \n",
        "  print(data)"
      ],
      "execution_count": 64,
      "outputs": [
        {
          "output_type": "stream",
          "text": [
            "1790\t3,929,214\t$44,377\t1.13 cents\n",
            "\n",
            "1800\t5,308,483\t$66,109\t1.24 cents\n",
            "\n",
            "1810\t7,239,881\t$178,445\t2.46 cents\n",
            "\n",
            "1820\t9,633,822\t$208,526\t2.16 cents\n",
            "\n",
            "1830\t12,866,020\t$378,545\t2.94 cents\n",
            "\n",
            "1840\t17,069,458\t$833,371\t4.88 cents\n",
            "\n",
            "1850\t23,191,876\t$1,423,351\t6.14 cents\n",
            "\n",
            "1860\t31,443,321\t$1,969,377\t6.26 cents\n",
            "\n",
            "1870\t38,558,371\t$3,421,198\t8.87 cents\n",
            "\n",
            "1880\t50,155,783\t$5,790,678\t11.54 cents\n",
            "\n",
            "1890\t62,979,766\t$11,547,127\t18.33 cents\n",
            "\n",
            "1900\t76,303,387\t$11,854,000\t15.54 cents\n",
            "\n",
            "1910\t91,972,266\t$15,968,000\t17.07 cents\n",
            "\n",
            "1920\t105,710,620\t$25,117,000\t23.76 cents\n",
            "\n",
            "1930\t122,775,046\t$40,156,000\t32.71 cents\n",
            "\n",
            "1940\t131,669,275\t$67,527,000\t51.29 cents\n",
            "\n",
            "1950\t151,325,798\t$91,462,000\t60.44 cents\n",
            "\n",
            "1960\t179,323,175\t$127,934,000\t71.34 cents\n",
            "\n",
            "1970\t203,302,031\t$247,653,000\t$1.22\n",
            "\n",
            "1980\t226,542,199\t$1,078,488,000\t$4.76\n",
            "\n",
            "1990\t248,718,301\t$2,492,830,000\t$10.02\n",
            "\n",
            "2000\t281,421,906\t$4.5Billion\t$15.99\n",
            "\n",
            "2010*\t308,745,538\t$13Billion\t$42.11\n"
          ],
          "name": "stdout"
        }
      ]
    },
    {
      "cell_type": "markdown",
      "metadata": {
        "id": "YApVDnU-sqOa",
        "colab_type": "text"
      },
      "source": [
        "4. Extract the column **\"Census Year\"** from data_list and assign them to a list named **year_list**. Remove the \"*\" from the last element \"2010*\". Print the cleansed year_list.\n"
      ]
    },
    {
      "cell_type": "code",
      "metadata": {
        "id": "3KpAPG0fLXVx",
        "colab_type": "code",
        "colab": {
          "base_uri": "https://localhost:8080/",
          "height": 408
        },
        "outputId": "1a6012d0-f601-45fb-ac81-1e2f620f1a3c"
      },
      "source": [
        "# extract year form data_list using a for loop and set conditions to removed the *\n",
        "for year in data_list: \n",
        "  year_list = year.split()[0] \n",
        "  year_string = []\n",
        "  for y in year_list:\n",
        "        if y == '*':\n",
        "                y = ' '\n",
        "        year_string.append(y)\n",
        "  print (''.join(year_string))"
      ],
      "execution_count": 99,
      "outputs": [
        {
          "output_type": "stream",
          "text": [
            "1790\n",
            "1800\n",
            "1810\n",
            "1820\n",
            "1830\n",
            "1840\n",
            "1850\n",
            "1860\n",
            "1870\n",
            "1880\n",
            "1890\n",
            "1900\n",
            "1910\n",
            "1920\n",
            "1930\n",
            "1940\n",
            "1950\n",
            "1960\n",
            "1970\n",
            "1980\n",
            "1990\n",
            "2000\n",
            "2010 \n"
          ],
          "name": "stdout"
        }
      ]
    },
    {
      "cell_type": "markdown",
      "metadata": {
        "id": "dgtEGGortw_P",
        "colab_type": "text"
      },
      "source": [
        "5. Extract the **\"Total Population\"** column from the data_list and assign them to a list named **\"pop_list\"**. Remove the \",\" from the numbers since Python doesn't recognize them. Print the cleansed \"pop_list\"."
      ]
    },
    {
      "cell_type": "code",
      "metadata": {
        "id": "_spCQgOLjVgM",
        "colab_type": "code",
        "colab": {
          "base_uri": "https://localhost:8080/",
          "height": 408
        },
        "outputId": "92aa484c-d4aa-4054-dd16-1418d98cab54"
      },
      "source": [
        "# extract population from data_list and set conditions to remove the ',' in each line\n",
        "for pop in data_list: \n",
        "  pop_list = pop.split()[1] \n",
        "  pop_string = []\n",
        "  for p in pop_list:\n",
        "        if p == ',':\n",
        "                p = ''\n",
        "        pop_string.append(p)\n",
        "  print (''.join(pop_string))"
      ],
      "execution_count": 100,
      "outputs": [
        {
          "output_type": "stream",
          "text": [
            "3929214\n",
            "5308483\n",
            "7239881\n",
            "9633822\n",
            "12866020\n",
            "17069458\n",
            "23191876\n",
            "31443321\n",
            "38558371\n",
            "50155783\n",
            "62979766\n",
            "76303387\n",
            "91972266\n",
            "105710620\n",
            "122775046\n",
            "131669275\n",
            "151325798\n",
            "179323175\n",
            "203302031\n",
            "226542199\n",
            "248718301\n",
            "281421906\n",
            "308745538\n"
          ],
          "name": "stdout"
        }
      ]
    },
    {
      "cell_type": "markdown",
      "metadata": {
        "id": "ih2VmHKjv8Ez",
        "colab_type": "text"
      },
      "source": [
        "6. Extract the **\"Census Cost\"** column from the data_list and assign them to a list named **\"cost_list\"**. Remove the \",\", and \"$\", and \"Billion\". Make sure to add the \"0\"s to the numbers from which you removed \"Billion\". Print the cleansed cost_list"
      ]
    },
    {
      "cell_type": "code",
      "metadata": {
        "id": "T-Oi0z8EhGfI",
        "colab_type": "code",
        "colab": {
          "base_uri": "https://localhost:8080/",
          "height": 408
        },
        "outputId": "e17b1609-bcfb-42c9-a209-c5a0aff66c15"
      },
      "source": [
        "# extract cost from data list using a for loop and set conditions to clean list \n",
        "for cost in data_list: \n",
        "  cost_list = cost.split()[2] \n",
        "  cost_string = []\n",
        "  for c in cost_list:\n",
        "      if c == 'Billion':\n",
        "              c= '000000000' \n",
        "      if c == '$':\n",
        "              c = '' \n",
        "      if c == ',':\n",
        "              c= ''  \n",
        "      cost_string.append(c)\n",
        "  print (''.join(cost_string))"
      ],
      "execution_count": 105,
      "outputs": [
        {
          "output_type": "stream",
          "text": [
            "44377\n",
            "66109\n",
            "178445\n",
            "208526\n",
            "378545\n",
            "833371\n",
            "1423351\n",
            "1969377\n",
            "3421198\n",
            "5790678\n",
            "11547127\n",
            "11854000\n",
            "15968000\n",
            "25117000\n",
            "40156000\n",
            "67527000\n",
            "91462000\n",
            "127934000\n",
            "247653000\n",
            "1078488000\n",
            "2492830000\n",
            "4.5Billion\n",
            "13Billion\n"
          ],
          "name": "stdout"
        }
      ]
    },
    {
      "cell_type": "markdown",
      "metadata": {
        "id": "-o5ZQMbOwZZD",
        "colab_type": "text"
      },
      "source": [
        "7. Extract the **\"Average Cost per \n",
        "Person\"** column from the data_list and assign them to a list named **\"avg_list\"**. Remove the \"cents\", and \"$\". Make sure to divide the numbers in cents by 100 so that all numbers are measured in dollar. Print the cleansed avg_list."
      ]
    },
    {
      "cell_type": "code",
      "metadata": {
        "id": "yE6C5zBSlXwk",
        "colab_type": "code",
        "colab": {
          "base_uri": "https://localhost:8080/",
          "height": 408
        },
        "outputId": "eae15737-4f7c-4237-97dc-cb5fb9cdfb29"
      },
      "source": [
        "# Extract avg from data list using the for loop and set conditions to clean\n",
        "for avg in data_list: \n",
        "  avg_list = avg.split()[3] \n",
        "  avg_string = []\n",
        "  for a in avg_list: \n",
        "      if a == '.':\n",
        "              a= ''   \n",
        "      if a == '$':\n",
        "              a ='' \n",
        "      if a == 'cents':\n",
        "              a= '/100'  \n",
        "\n",
        "      avg_string.append(a)\n",
        "  print (''.join(avg_string))"
      ],
      "execution_count": 104,
      "outputs": [
        {
          "output_type": "stream",
          "text": [
            "113\n",
            "124\n",
            "246\n",
            "216\n",
            "294\n",
            "488\n",
            "614\n",
            "626\n",
            "887\n",
            "1154\n",
            "1833\n",
            "1554\n",
            "1707\n",
            "2376\n",
            "3271\n",
            "5129\n",
            "6044\n",
            "7134\n",
            "122\n",
            "476\n",
            "1002\n",
            "1599\n",
            "4211\n"
          ],
          "name": "stdout"
        }
      ]
    }
  ]
}