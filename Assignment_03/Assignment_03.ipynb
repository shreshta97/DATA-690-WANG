{
  "nbformat": 4,
  "nbformat_minor": 0,
  "metadata": {
    "colab": {
      "name": "Assignment_03.ipynb",
      "provenance": [],
      "authorship_tag": "ABX9TyOgOj60Hg8PfkFqMLO1uDoX",
      "include_colab_link": true
    },
    "kernelspec": {
      "name": "python3",
      "display_name": "Python 3"
    }
  },
  "cells": [
    {
      "cell_type": "markdown",
      "metadata": {
        "id": "view-in-github",
        "colab_type": "text"
      },
      "source": [
        "<a href=\"https://colab.research.google.com/github/shreshta97/DATA-690-WANG/blob/master/Assignment_03/Assignment_03.ipynb\" target=\"_parent\"><img src=\"https://colab.research.google.com/assets/colab-badge.svg\" alt=\"Open In Colab\"/></a>"
      ]
    },
    {
      "cell_type": "markdown",
      "metadata": {
        "id": "De9Oqk7i9vpL",
        "colab_type": "text"
      },
      "source": [
        "# Assignment_03 09-13-2020\n",
        "## 1. Write a program that generates 100 random integers between 0 and 9.\n",
        "\n",
        "- Print them in a 10 by 10 matrix neatly arranged like the following (one space between each number):"
      ]
    },
    {
      "cell_type": "code",
      "metadata": {
        "id": "Adq4y3NA-CJc",
        "colab_type": "code",
        "colab": {
          "base_uri": "https://localhost:8080/",
          "height": 187
        },
        "outputId": "a7025932-eb37-4ba3-f85a-2b31c2168c70"
      },
      "source": [
        "# Import the NUMpy library  \n",
        "import numpy as np\n",
        "# Generate a random matrix of 10 by 10 with digits 0-9 using the np.random function \n",
        "random_matrix = np.random.randint(0,9,(10,10))\n",
        "print(random_matrix)"
      ],
      "execution_count": 1,
      "outputs": [
        {
          "output_type": "stream",
          "text": [
            "[[5 7 2 4 1 4 7 2 4 2]\n",
            " [0 8 7 3 0 1 1 5 4 1]\n",
            " [7 4 7 6 6 7 5 1 6 3]\n",
            " [4 4 8 2 2 3 1 2 6 3]\n",
            " [4 8 8 7 2 7 5 3 2 8]\n",
            " [2 1 6 0 7 2 6 5 8 0]\n",
            " [8 8 4 7 2 2 7 3 8 7]\n",
            " [0 0 0 5 7 3 0 6 0 0]\n",
            " [8 6 2 5 3 7 5 4 0 7]\n",
            " [5 1 0 5 5 5 0 3 8 1]]\n"
          ],
          "name": "stdout"
        }
      ]
    },
    {
      "cell_type": "markdown",
      "metadata": {
        "id": "GzSEiJYH-xqB",
        "colab_type": "text"
      },
      "source": [
        "## 2. If the random number is an odd number, print \"@\" instead: "
      ]
    },
    {
      "cell_type": "code",
      "metadata": {
        "id": "OikZBJM5_jZq",
        "colab_type": "code",
        "colab": {
          "base_uri": "https://localhost:8080/",
          "height": 187
        },
        "outputId": "1abb62ff-4f54-43d5-8b8d-1c22cb1af82a"
      },
      "source": [
        "# finding all the odd values in the matrix and replacing with -1 as a place holder\n",
        "odd_values = (random_matrix%2==1) \n",
        "\n",
        "random_matrix[odd_values] = -1 \n",
        "\n",
        "print(random_matrix)"
      ],
      "execution_count": 65,
      "outputs": [
        {
          "output_type": "stream",
          "text": [
            "[[-1 -1  0  0 -1 -1  6  6  0  2]\n",
            " [ 8  8  0  2 -1  8  4 -1  0  6]\n",
            " [-1 -1 -1  2 -1 -1 -1 -1 -1  6]\n",
            " [-1  0  8  2  0  8 -1 -1  8  8]\n",
            " [ 4 -1 -1  6 -1  2 -1 -1  6  2]\n",
            " [ 6 -1  0 -1  6  8 -1  8 -1 -1]\n",
            " [ 6  8 -1  4  6  6 -1 -1 -1  4]\n",
            " [-1  0  4 -1  6 -1 -1  6  0  8]\n",
            " [ 4 -1  4 -1  4  2 -1 -1 -1  6]\n",
            " [ 6 -1  6 -1  4 -1  0 -1  0  2]]\n"
          ],
          "name": "stdout"
        }
      ]
    },
    {
      "cell_type": "code",
      "metadata": {
        "id": "FoijwwlYjE_w",
        "colab_type": "code",
        "colab": {
          "base_uri": "https://localhost:8080/",
          "height": 187
        },
        "outputId": "308d4b17-5de7-42fc-c741-9f3a2a50b988"
      },
      "source": [
        "# convert all the values in the matrix from integers to strings\n",
        "random_matrix1= np.char.mod('%d', random_matrix)\n",
        "print(random_matrix1)"
      ],
      "execution_count": 161,
      "outputs": [
        {
          "output_type": "stream",
          "text": [
            "[['7' '3' '6' '4' '0' '1' '5' '3' '6' '2']\n",
            " ['0' '6' '6' '4' '3' '2' '6' '5' '7' '5']\n",
            " ['4' '4' '6' '7' '3' '3' '4' '4' '6' '6']\n",
            " ['1' '5' '2' '4' '1' '4' '3' '2' '5' '8']\n",
            " ['0' '0' '1' '4' '2' '4' '7' '8' '6' '5']\n",
            " ['4' '6' '2' '5' '0' '0' '1' '2' '2' '3']\n",
            " ['4' '3' '5' '4' '1' '3' '6' '6' '3' '6']\n",
            " ['6' '4' '2' '7' '3' '3' '4' '4' '0' '7']\n",
            " ['6' '7' '7' '4' '0' '1' '4' '6' '7' '3']\n",
            " ['2' '3' '1' '3' '3' '6' '3' '2' '2' '4']]\n"
          ],
          "name": "stdout"
        }
      ]
    },
    {
      "cell_type": "code",
      "metadata": {
        "id": "xXwThC08JSl0",
        "colab_type": "code",
        "colab": {
          "base_uri": "https://localhost:8080/",
          "height": 187
        },
        "outputId": "2b058cb9-a972-494b-a23e-c47fef42a4a1"
      },
      "source": [
        "# testing to see if we can replace the digits \n",
        "a = np.char.replace(random_matrix1, ('1'), '@')\n",
        "b = np.char.replace(a,('3'),'@')\n",
        "c = np.char.replace(b,('5'),'@')\n",
        "d = np.char.replace(c,('7'),'@')\n",
        "e = np.char.replace(d,('3'),'@')\n",
        "print(e)\n"
      ],
      "execution_count": 166,
      "outputs": [
        {
          "output_type": "stream",
          "text": [
            "[['@' '@' '6' '4' '0' '@' '@' '@' '6' '2']\n",
            " ['0' '6' '6' '4' '@' '2' '6' '@' '@' '@']\n",
            " ['4' '4' '6' '@' '@' '@' '4' '4' '6' '6']\n",
            " ['@' '@' '2' '4' '@' '4' '@' '2' '@' '8']\n",
            " ['0' '0' '@' '4' '2' '4' '@' '8' '6' '@']\n",
            " ['4' '6' '2' '@' '0' '0' '@' '2' '2' '@']\n",
            " ['4' '@' '@' '4' '@' '@' '6' '6' '@' '6']\n",
            " ['6' '4' '2' '@' '@' '@' '4' '4' '0' '@']\n",
            " ['6' '@' '@' '4' '0' '@' '4' '6' '@' '@']\n",
            " ['2' '@' '@' '@' '@' '6' '@' '2' '2' '4']]\n"
          ],
          "name": "stdout"
        }
      ]
    },
    {
      "cell_type": "markdown",
      "metadata": {
        "id": "egrLDFkwmWh8",
        "colab_type": "text"
      },
      "source": [
        "# 3. Calculate and Print the total of each row (use \"*\" to separate the total from the numbers):"
      ]
    },
    {
      "cell_type": "code",
      "metadata": {
        "id": "2aRJ81Z8mex5",
        "colab_type": "code",
        "colab": {
          "base_uri": "https://localhost:8080/",
          "height": 34
        },
        "outputId": "61451a78-b6e7-4d94-f6ff-a67485eaa0d9"
      },
      "source": [
        "random_sums= np.sum(random_matrix,axis=1)\n",
        "print(random_sums)\n"
      ],
      "execution_count": 183,
      "outputs": [
        {
          "output_type": "stream",
          "text": [
            "[37 44 47 35 37 25 41 40 45 29]\n"
          ],
          "name": "stdout"
        }
      ]
    },
    {
      "cell_type": "code",
      "metadata": {
        "id": "A9ifFHrosp7X",
        "colab_type": "code",
        "colab": {
          "base_uri": "https://localhost:8080/",
          "height": 204
        },
        "outputId": "b107b2de-0141-4090-f831-698c29184850"
      },
      "source": [
        "# not sure why this is happening??\n",
        "random_sums= np.sum(random_matrix,axis=1)\n",
        "print(random_sums)\n",
        "for x in random_sums: \n",
        "  if x>0:\n",
        "    continue\n",
        "\n",
        "for digit in random_matrix: \n",
        "    print(digit,'*', x)"
      ],
      "execution_count": 230,
      "outputs": [
        {
          "output_type": "stream",
          "text": [
            "[37 44 47 35 37 25 41 40 45 29]\n",
            "[7 3 6 4 0 1 5 3 6 2] * 29\n",
            "[0 6 6 4 3 2 6 5 7 5] * 29\n",
            "[4 4 6 7 3 3 4 4 6 6] * 29\n",
            "[1 5 2 4 1 4 3 2 5 8] * 29\n",
            "[0 0 1 4 2 4 7 8 6 5] * 29\n",
            "[4 6 2 5 0 0 1 2 2 3] * 29\n",
            "[4 3 5 4 1 3 6 6 3 6] * 29\n",
            "[6 4 2 7 3 3 4 4 0 7] * 29\n",
            "[6 7 7 4 0 1 4 6 7 3] * 29\n",
            "[2 3 1 3 3 6 3 2 2 4] * 29\n"
          ],
          "name": "stdout"
        }
      ]
    },
    {
      "cell_type": "code",
      "metadata": {
        "id": "lAcAmHz7m9Ry",
        "colab_type": "code",
        "colab": {
          "base_uri": "https://localhost:8080/",
          "height": 187
        },
        "outputId": "c3543ccc-6f02-4410-c523-9c2379eaa454"
      },
      "source": [
        "# was able to concatenate the random integer matrix with the sums of each row \n",
        "## still need to figure out how to add in the *\n",
        "np.column_stack((random_matrix, random_sums))"
      ],
      "execution_count": 215,
      "outputs": [
        {
          "output_type": "execute_result",
          "data": {
            "text/plain": [
              "array([[ 7,  3,  6,  4,  0,  1,  5,  3,  6,  2, 37],\n",
              "       [ 0,  6,  6,  4,  3,  2,  6,  5,  7,  5, 44],\n",
              "       [ 4,  4,  6,  7,  3,  3,  4,  4,  6,  6, 47],\n",
              "       [ 1,  5,  2,  4,  1,  4,  3,  2,  5,  8, 35],\n",
              "       [ 0,  0,  1,  4,  2,  4,  7,  8,  6,  5, 37],\n",
              "       [ 4,  6,  2,  5,  0,  0,  1,  2,  2,  3, 25],\n",
              "       [ 4,  3,  5,  4,  1,  3,  6,  6,  3,  6, 41],\n",
              "       [ 6,  4,  2,  7,  3,  3,  4,  4,  0,  7, 40],\n",
              "       [ 6,  7,  7,  4,  0,  1,  4,  6,  7,  3, 45],\n",
              "       [ 2,  3,  1,  3,  3,  6,  3,  2,  2,  4, 29]])"
            ]
          },
          "metadata": {
            "tags": []
          },
          "execution_count": 215
        }
      ]
    }
  ]
}