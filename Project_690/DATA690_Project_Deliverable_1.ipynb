{
  "nbformat": 4,
  "nbformat_minor": 0,
  "metadata": {
    "colab": {
      "name": "DATA690 Project Deliverable 1.ipynb",
      "provenance": [],
      "authorship_tag": "ABX9TyMrbNeA8rBUN/AnyUyKGh1w",
      "include_colab_link": true
    },
    "kernelspec": {
      "name": "python3",
      "display_name": "Python 3"
    }
  },
  "cells": [
    {
      "cell_type": "markdown",
      "metadata": {
        "id": "view-in-github",
        "colab_type": "text"
      },
      "source": [
        "<a href=\"https://colab.research.google.com/github/shreshta97/DATA-690-WANG/blob/master/Project_690/DATA690_Project_Deliverable_1.ipynb\" target=\"_parent\"><img src=\"https://colab.research.google.com/assets/colab-badge.svg\" alt=\"Open In Colab\"/></a>"
      ]
    },
    {
      "cell_type": "markdown",
      "metadata": {
        "id": "oHykOStW9iFJ"
      },
      "source": [
        "# Analysis of Groups Disproporinately impacted by COVID-19\n",
        "\n"
      ]
    },
    {
      "cell_type": "markdown",
      "metadata": {
        "id": "CzSbBnp5_hCK"
      },
      "source": [
        "## What is your issue of interest (provide sufficient background information)?\n",
        "\n",
        "\n",
        "- Many of us face the daily reality that SARS CoV-2, a recently identified human coronavirus, has caused a world wide pandemic. This respiratory illness is spread through droplet-based transmission and leads to severe respiratory problems, kidney failure, and even death. This disease affects almost everyone's daily lives but may be said to impact certain groups disproportionately. It is commonly known that people with certain medical conditions and specific age categories are at an increased risk for severe disease following exposure to COVID-19. However, the impact of race, geographic location, economic status, etc. is not often acknowledged. According to the CDC, \" Long-standing systemic health and social inequities have put many people from racial and ethnic minority groups at increased risk of getting sick and dying from COVID-19\"(CDC.gov). Some of the factors that may contribute to this increased risk could include racial discrimination, healthcare access, educational gaps, income gaps, and wealth gaps. This is an instance that brings forward the idea of health care disparities, which are differences among health and health care between various population groups. For example, \"In the U.S. African Americans are contracting SARS-CoV-2 at higher rated and are more likely to die from COVID-19\"(Del Rio 2020).\n"
      ]
    },
    {
      "cell_type": "markdown",
      "metadata": {
        "id": "2Q1R2dpg_sAQ"
      },
      "source": [
        "## Why is this issue important to you and/or to others?\n",
        "- Health disparities adversely impact groups of people who have, throughout history, experienced more significant obstacles to health based on race, religion, socioeconomic status, gender, age, mental health, or disability. These disparities do not solely impact the group facing differences. Still, they can also limit overall gains in quality of care from the broader population due to the burden of unnecessary cost(health care cost and lost productivity costs). Specifically, in the case of COVID-19, addressing these disparities will allow for better contact tracing and containment of the disease, which is beneficial overall to all society members. To address these disparities, it is crucial to recognize precisely where they stem from and who is being impacted at the most astounding rate. So we should turn to the data to examine where the disease hot spots are and why they are more severely affected. Can we find any population trends that are common in these locations? With this knowledge, public health officials become better equipped to address the needs of the public through education, targeted health programs, and more advanced surveillance efforts."
      ]
    },
    {
      "cell_type": "markdown",
      "metadata": {
        "id": "3n2AFyKo_wCT"
      },
      "source": [
        "## What questions do you have in mind and wouyld like to answer?\n",
        "- Examine what factors influence the disproportionate outcomes of COVID-19 and better understand which populations are impacted?"
      ]
    },
    {
      "cell_type": "markdown",
      "metadata": {
        "id": "t-B4O765_05j"
      },
      "source": [
        "## Where do you get the data to help answer your questions?\n",
        "\n",
        "In order to answer these questions I will uses these sources for data collection: \n",
        "- https://data.humdata.org/dataset/novel-coronavirus-2019-ncov-cases\n",
        "- https://data.world/datasets/covid-19\n",
        "- https://datascience.nih.gov/covid-19-open-access-resources"
      ]
    },
    {
      "cell_type": "markdown",
      "metadata": {
        "id": "0u8HRnBR_7Ba"
      },
      "source": [
        "## What will be your unit of analysis (for example, patient, organization, or country)? Roughly how many units do you expect to analyze?\n",
        "- COVID-19 Hotspots across the United States\n",
        "- Population present in thoes locations"
      ]
    },
    {
      "cell_type": "markdown",
      "metadata": {
        "id": "YRZUCnGJ_-MY"
      },
      "source": [
        "## What variables/measures do you plan to use in your analysis?\n",
        "List of potential variables to use in analysis\n",
        "- Death rate \n",
        "- Race/ Ethnicity\n",
        "- Gender\n",
        "- Underlying health conditions\n",
        "- annual houshold income\n",
        "- heath visits "
      ]
    },
    {
      "cell_type": "markdown",
      "metadata": {
        "id": "9LXBz21N__uI"
      },
      "source": [
        "## What kinds of techniques do you you plan to use (for example, summary statistics, scatter plot, bar chart, chi-squared test)?\n",
        "- Summary statistics to give a breif description of each variable\n",
        "- Scatter plots and bar charts to help vizualize the data more effectively"
      ]
    }
  ]
}