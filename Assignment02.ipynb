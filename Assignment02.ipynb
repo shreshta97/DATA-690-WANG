{
 "cells": [
  {
   "cell_type": "code",
   "execution_count": 74,
   "metadata": {},
   "outputs": [
    {
     "name": "stdin",
     "output_type": "stream",
     "text": [
      "Please enter 10 Integers(0-9)separated by a single space only  0 1 2 3 4 5 6 7 8 9\n"
     ]
    },
    {
     "name": "stdout",
     "output_type": "stream",
     "text": [
      "\n",
      "\n",
      "Integer list:  ['0', '1', '2', '3', '4', '5', '6', '7', '8', '9']\n",
      "Sum =  45\n",
      "Minimum: 0\n",
      "Maximum: 9\n",
      "Range: [9]\n",
      "Mean: 4.5\n",
      "Variance: 8.25\n",
      "Standard Deviation: 2.8722813232690143\n"
     ]
    }
   ],
   "source": [
    "# Assignment 02 DATA 605 Shreshta Phogat 09/06/2020\n",
    "\n",
    "while True:\n",
    "    # Input function prompts user to enter data \n",
    "    Input_Integers = input(\"Please enter 10 Integers(0-9)separated by a single space only \")\n",
    "    print(\"\\n\")\n",
    "    # Ensure the Input_Integers can be split by a single space\n",
    "    Integer_list = Input_Integers.split() \n",
    "    # shows user data they inputed\n",
    "    print(\"Integer list: \", Integer_list) \n",
    "    # converting the string of data to floats for easy manipulation\n",
    "    list_of_floats = []\n",
    "    for num in Integer_list:\n",
    "        list_of_floats.append(float(num))\n",
    "    # Ensure the user is only able to input numbers\n",
    "    if Input_Integers.isdigit(): \n",
    "        print (\"Only integers are allowed please retry 0-9\\n\")\n",
    "        # continues the loop\n",
    "        continue \n",
    "    # Ensure the user is only able to input 10 digits    \n",
    "    elif len(Integer_list) != 10:\n",
    "        print (\"Enter 10 digits\\n,\")\n",
    "        # continues the loop\n",
    "        continue\n",
    "        \n",
    "    else: \n",
    "            # find the sum of the Integer_list for easy manipulation of statistical data\n",
    "            sums = 0\n",
    "            for num in Integer_list:\n",
    "                sums += int(num)\n",
    "            # show sum to user\n",
    "            print(\"Sum = \", sums)\n",
    "            # find the smallest digit in the series\n",
    "            print(\"Minimum:\", * sorted(Integer_list) [:1])\n",
    "            # find the largest digit in the series\n",
    "            print(\"Maximum:\", * sorted(Integer_list) [-1])\n",
    "            # find the difference between the largest and smallest numbers\n",
    "            print(\"Range:\", [9-0]) \n",
    "            # Calculate the mean\n",
    "            avg= sums/10\n",
    "            # Show the mean to the user\n",
    "            print(\"Mean:\", avg)\n",
    "            # calculate the Varience \n",
    "            var1 = sum((i - avg) ** 2 for i in list_of_floats ) / len(list_of_floats) \n",
    "            # show the varience to the user\n",
    "            print(\"Variance: \" + str(var1)) \n",
    "            # calculate the standard deviation\n",
    "            Dev1 = var1 ** 0.5\n",
    "            # show the user the standard deviation\n",
    "            print(\"Standard Deviation: \" + str(Dev1)) \n",
    "    break # End the loop"
   ]
  },
  {
   "cell_type": "code",
   "execution_count": null,
   "metadata": {
    "jupyter": {
     "source_hidden": true
    }
   },
   "outputs": [],
   "source": []
  }
 ],
 "metadata": {
  "kernelspec": {
   "display_name": "Python 3",
   "language": "python",
   "name": "python3"
  },
  "language_info": {
   "codemirror_mode": {
    "name": "ipython",
    "version": 3
   },
   "file_extension": ".py",
   "mimetype": "text/x-python",
   "name": "python",
   "nbconvert_exporter": "python",
   "pygments_lexer": "ipython3",
   "version": "3.8.1"
  }
 },
 "nbformat": 4,
 "nbformat_minor": 4
}
