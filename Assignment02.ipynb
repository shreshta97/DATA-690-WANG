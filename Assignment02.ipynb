{
 "cells": [
  {
   "cell_type": "code",
   "execution_count": 1,
   "metadata": {},
   "outputs": [
    {
     "name": "stdin",
     "output_type": "stream",
     "text": [
      "Please enter 10 Integers (0-9) one at a time: 1\n",
      "Please enter 10 Integers (0-9) one at a time: 2\n",
      "Please enter 10 Integers (0-9) one at a time: 3\n",
      "Please enter 10 Integers (0-9) one at a time: 4\n",
      "Please enter 10 Integers (0-9) one at a time: 5\n",
      "Please enter 10 Integers (0-9) one at a time: 6\n",
      "Please enter 10 Integers (0-9) one at a time: 7\n",
      "Please enter 10 Integers (0-9) one at a time: 8\n",
      "Please enter 10 Integers (0-9) one at a time: 9\n",
      "Please enter 10 Integers (0-9) one at a time: 0\n"
     ]
    },
    {
     "name": "stdout",
     "output_type": "stream",
     "text": [
      "[1, 2, 3, 4, 5, 6, 7, 8, 9, 0]\n"
     ]
    }
   ],
   "source": [
    "# Assignment 02 Resubmit DATA 605 Shreshta Phogat 09/07/2020\n",
    "List1 = []\n",
    "while True: \n",
    "    try: \n",
    "        # limits the range of input to 10 digits\n",
    "        for i in range (10): \n",
    "            # appends the empty list to include only user input integers\n",
    "            List1.append(int(input('Please enter 10 Integers (0-9) one at a time:')))\n",
    "        print(List1)\n",
    "        # Ends list after 10 inputs\n",
    "        break\n",
    "        # if any value errors ocurr the user is requested to retry \n",
    "    except (ValueError,IOError) as errr:\n",
    "            print ('Only integers are allowed please retry:')\n",
    "        # limits user inputs\n",
    "            if List1 in [1,2,3,4,5,6,7,8,9,0]:\n",
    "                break"
   ]
  },
  {
   "cell_type": "code",
   "execution_count": 2,
   "metadata": {},
   "outputs": [
    {
     "name": "stdout",
     "output_type": "stream",
     "text": [
      "minimum : 0\n",
      "maximum :9\n",
      "Range: 9\n",
      "Mean: 0.1\n",
      "Variance: 27.610000000000003\n",
      "Standard Deviation: 5.254521862167861\n"
     ]
    }
   ],
   "source": [
    "\n",
    "# converting the string of data to floats for easy manipulation\n",
    "list_of_floats = []\n",
    "for num in List1:\n",
    "    list_of_floats.append(float(num))\n",
    "# Finding the minimum\n",
    "mini=11\n",
    "for num in List1:\n",
    "    if mini>num:\n",
    "        mini=num\n",
    "print('minimum : '+str(mini))\n",
    "# finding the maximum\n",
    "maxi=0\n",
    "for num in List1:\n",
    "    if maxi<num:\n",
    "        maxi=num\n",
    "print('maximum :'+str(maxi))\n",
    "# calculate the range using the max and min calculated previously \n",
    "print(\"Range:\", (maxi - mini) )\n",
    "# Calculate the mean\n",
    "sums = 0\n",
    "for num in List1:\n",
    "    sums += int(num)\n",
    "    avg= sums/10\n",
    "    # Show the mean to the user\n",
    "    print(\"Mean:\", avg)\n",
    "    # calculate the Varience \n",
    "    var1 = sum((i - avg) ** 2 for i in list_of_floats ) / len(list_of_floats) \n",
    "    # show the varience to the user\n",
    "    print(\"Variance: \" + str(var1)) \n",
    "    # calculate the standard deviation\n",
    "    Dev1 = var1 ** 0.5\n",
    "    # show the user the standard deviation\n",
    "    print(\"Standard Deviation: \" + str(Dev1)) \n",
    "    break"
   ]
  },
  {
   "cell_type": "code",
   "execution_count": null,
   "metadata": {},
   "outputs": [],
   "source": []
  }
 ],
 "metadata": {
  "kernelspec": {
   "display_name": "Python 3",
   "language": "python",
   "name": "python3"
  },
  "language_info": {
   "codemirror_mode": {
    "name": "ipython",
    "version": 3
   },
   "file_extension": ".py",
   "mimetype": "text/x-python",
   "name": "python",
   "nbconvert_exporter": "python",
   "pygments_lexer": "ipython3",
   "version": "3.8.1"
  }
 },
 "nbformat": 4,
 "nbformat_minor": 4
}
